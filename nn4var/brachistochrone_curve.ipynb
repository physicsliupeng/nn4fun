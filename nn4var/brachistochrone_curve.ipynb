{
 "cells": [
  {
   "cell_type": "markdown",
   "metadata": {},
   "source": [
    "# Neural Network for Variation Problem"
   ]
  },
  {
   "cell_type": "markdown",
   "metadata": {},
   "source": [
    "## Brachistochrone Curve"
   ]
  },
  {
   "cell_type": "markdown",
   "metadata": {},
   "source": [
    "For reference, c.f. [here](https://baike.baidu.com/item/%E6%9C%80%E9%80%9F%E9%99%8D%E7%BA%BF%E9%97%AE%E9%A2%98)."
   ]
  },
  {
   "cell_type": "markdown",
   "metadata": {},
   "source": [
    "For a trajectory $y(x)$ for $\\forall x \\in [0, 1]$, the action (loss), as the total time spent, is given by\n",
    "$$ \\mathcal{L}[y] = \\int_0^1 d x \\frac{ \\sqrt{ 1 + {y^{\\prime}}^2 (x) } } { \\sqrt{- 2 g y(x)} } , $$\n",
    "with boundary condition\n",
    "$$ y(0) = 0 \\;, y(1) = -1 , $$\n",
    "where $g$ is the gravitational constant. Ensure that $y(x) \\le 0, \\forall x \\in [0, 1]$."
   ]
  },
  {
   "cell_type": "code",
   "execution_count": 1,
   "metadata": {},
   "outputs": [
    {
     "name": "stderr",
     "output_type": "stream",
     "text": [
      "/Users/shuiruge/anaconda/lib/python3.6/importlib/_bootstrap.py:205: RuntimeWarning: compiletime version 3.5 of module 'tensorflow.python.framework.fast_tensor_util' does not match runtime version 3.6\n",
      "  return f(*args, **kwds)\n"
     ]
    }
   ],
   "source": [
    "%matplotlib inline\n",
    "\n",
    "import numpy as np\n",
    "import tensorflow as tf\n",
    "from matplotlib import pyplot as plt\n",
    "from datetime import datetime\n",
    "from collections import namedtuple"
   ]
  },
  {
   "cell_type": "markdown",
   "metadata": {},
   "source": [
    "Employ Monte-Carlo approximation. Let $\\{ x_i: i = 1, \\ldots, N \\} \\sim \\text{Uniform}(0, 1)$, the action with boundary condition and penalty becomes\n",
    "$$\n",
    "  \\mathcal{L}[y] = \\frac{1}{N} \\sum_{i=1}^{N} \\frac{ \\sqrt{ 1 + {y^{\\prime}}^2 (x_i) } } { \\sqrt{-2 g y(x_i)} }\n",
    "       + \\frac{\\lambda}{2} \\sum_{ x_b \\in \\{0,1\\} } d(y(x_b), 0), \n",
    "$$\n",
    "with some adjustable hyper-parameter $\\lambda \\in \\mathbb{R}^+$ and some pre-defined distance $d$."
   ]
  },
  {
   "cell_type": "code",
   "execution_count": 2,
   "metadata": {},
   "outputs": [],
   "source": [
    "# -- Helpers\n",
    "\n",
    "def l1_norm(x):\n",
    "    \"\"\"L1-norm.\"\"\"\n",
    "    return np.mean(np.abs(x))\n",
    "\n",
    "def flatten(nested_list):\n",
    "    \"\"\"Helper. (Recursively) flatten an arbitrarily nested list.\"\"\"\n",
    "    if nested_list == []:\n",
    "        return nested_list\n",
    "    if isinstance(nested_list[0], list):\n",
    "        return flatten(nested_list[0]) + flatten(nested_list[1:])\n",
    "    return nested_list[:1] + flatten(nested_list[1:])"
   ]
  },
  {
   "cell_type": "code",
   "execution_count": 3,
   "metadata": {},
   "outputs": [],
   "source": [
    "def make_neural_network(x, hidden_layers, output_shape, name=None):\n",
    "  \"\"\"Implement the neural network with dense hidden layers, each with\n",
    "  the same activation-function `activation`, and regularized by a\n",
    "  dropout layer with dropout-rate as the default (i.e. 0.5).\n",
    "  Args:\n",
    "    x: Tensor-like, as the input of the neural network. It's shape is\n",
    "        of `[batch_size] + x_shape`.\n",
    "    hidden_layers: List of objects of the classes in `tf.layers`.\n",
    "    output_shape: List of integers.\n",
    "  Returns:\n",
    "    The output tensor of the neural network.\n",
    "  \"\"\"\n",
    "  x = tf.convert_to_tensor(x, name='x')\n",
    "\n",
    "  with tf.name_scope(name, 'NeuralNetwork', [x]):\n",
    "    \n",
    "    # Hidden layers\n",
    "    hidden = x  # initialize.\n",
    "    for layer in hidden_layers:\n",
    "      hidden = layer(hidden)\n",
    "    \n",
    "    # Output layer\n",
    "    flatten_hidden = tf.layers.flatten(hidden)\n",
    "    output_size = sum(flatten(output_shape))\n",
    "    output = tf.layers.dense(flatten_hidden, output_size)\n",
    "    output = tf.reshape(output, [-1]+output_shape)\n",
    "\n",
    "  return output"
   ]
  },
  {
   "cell_type": "code",
   "execution_count": 10,
   "metadata": {},
   "outputs": [],
   "source": [
    "def action(y, grad_y, g=9.8, epsilon=1e-8, name=None):\n",
    "    \"\"\"Implements the action.\n",
    "    Args:\n",
    "      y: Tensor-like, with shape `[batch_size] + y_shape`.\n",
    "      grad_y: Tensor-like, with shape `[batch_size] + y_shape`.\n",
    "    Returns:\n",
    "      Scalar.\n",
    "    \"\"\"\n",
    "    y = tf.convert_to_tensor(y, name='y')\n",
    "    grad_y = tf.convert_to_tensor(grad_y, name='grad_y')\n",
    "    with tf.name_scope(name, 'Action', [y, grad_y]):\n",
    "      delta_height = tf.where(y < 0.0, y, tf.zeros(y.shape))\n",
    "      lagrangians = tf.truediv(\n",
    "          tf.sqrt(1.0 + tf.square(grad_y)),\n",
    "          tf.sqrt(- 2.0 * g * delta_height + epsilon))\n",
    "      return tf.reduce_mean(lagrangians)\n",
    "    \n",
    "    \n",
    "def make_distance(x, y, name=None):\n",
    "  \"\"\"Mean square distance between tensors `x` and `y`.\"\"\"\n",
    "  with tf.name_scope(name, 'MeanSquareDistance', [x, y]):\n",
    "    distance = tf.reduce_mean(tf.square(x - y))\n",
    "  return distance\n",
    "\n",
    "\n",
    "LossOps = namedtuple('LossOps',\n",
    "    'loss, y, grad_y, y_within, y_boundary, action_part, boundary_part')\n",
    "\n",
    "def make_loss(x_within, x_boundary, make_neural_network,\n",
    "              lambda_=10.0, name=None):\n",
    "  \"\"\"Implements the loss.\n",
    "  Args:\n",
    "    x_within: Tensor-like, with shape `[batch_size] + x_shape`, as the\n",
    "        non-boundary values of the input to the neural network.\n",
    "    x_boundary: Tensor-like, with shape `[n_boundaries] + x_shape`, as\n",
    "        the boundary values of the input to the neural network.\n",
    "    make_neural_network: Callable that maps `x` to the neural network\n",
    "        output.\n",
    "    lambda_: Float, as the $lambda$ in the formula of loss.\n",
    "  Returns:\n",
    "    Scalar, as the loss.\n",
    "  \"\"\"\n",
    "  x_within = tf.convert_to_tensor(x_within, name='x_within')\n",
    "  x_boundary = tf.convert_to_tensor(x_boundary, name='x_boundary')\n",
    "    \n",
    "  x = tf.concat([x_within, x_boundary], axis=0)    \n",
    "  y = make_neural_network(x)    \n",
    "\n",
    "  batch_size = x_within.get_shape().as_list()[0]\n",
    "  n_boundary = x_boundary.get_shape().as_list()[0]\n",
    "  y_within, y_boundary = tf.split(y, [batch_size, n_boundary],\n",
    "                                  axis=0)\n",
    "  grad_y = tf.gradients(y, [x])[0]\n",
    "\n",
    "  with tf.name_scope(name, 'Loss'):\n",
    "    lambda_ = tf.constant(lambda_, dtype='float32')\n",
    "    action_part = action(y, grad_y)\n",
    "    boundary = tf.constant([[0.0], [-1.0]], dtype='float32')\n",
    "    boundary_part = lambda_ * make_distance(y_boundary, boundary)\n",
    "    #loss = action_part + boundary_part\n",
    "    loss = action_part * (1.0 + boundary_part)  # for arbitrary choice.\n",
    "\n",
    "  return LossOps(loss, y, grad_y, y_within, y_boundary,\n",
    "                 action_part, boundary_part)"
   ]
  },
  {
   "cell_type": "code",
   "execution_count": 13,
   "metadata": {
    "scrolled": false
   },
   "outputs": [
    {
     "name": "stdout",
     "output_type": "stream",
     "text": [
      "999 0.04355839 0.038527656 0.1305746 0.76908207 0.6913086\n",
      "1999 0.045779802 0.040536623 0.12934428 0.8419569 0.6736935\n",
      "2999 0.048642766 0.043325126 0.122738004 0.8448847 0.6536078\n",
      "3999 0.045981202 0.04194278 0.09628419 0.8252311 0.6803117\n",
      "4999 0.045085672 0.040301513 0.11870916 0.80086285 0.69019115\n",
      "5999 0.04788639 0.04256551 0.12500459 0.8496915 0.65149385\n",
      "6999 0.04712753 0.04245318 0.11010593 0.836831 0.6522537\n",
      "7999 0.047451507 0.042858552 0.107165486 0.8612525 0.66450405\n",
      "8999 0.046011124 0.041218612 0.11627051 0.8183442 0.6688345\n",
      "9999 0.045831148 0.041181028 0.112919 0.81563914 0.67740774\n",
      "10999 0.04245396 0.037521888 0.13144514 0.74842334 0.71747524\n",
      "11999 0.050631072 0.045377344 0.11577874 0.8772215 0.6644028\n",
      "12999 0.043447603 0.038732864 0.12172447 0.7745048 0.7077995\n",
      "13999 0.04656018 0.04118002 0.13064976 0.8172074 0.67846626\n",
      "14999 0.045626003 0.041313544 0.10438368 0.8438574 0.6776878\n",
      "15999 0.045961544 0.040608972 0.13180761 0.7789778 0.6857242\n",
      "16999 0.043645754 0.038665578 0.1288014 0.7763928 0.6850755\n",
      "17999 0.045418244 0.039771147 0.14198986 0.7940333 0.7002567\n",
      "18999 0.046509616 0.04105064 0.13298154 0.8183992 0.6671841\n",
      "19999 0.04792606 0.043026067 0.11388433 0.8568157 0.67600214\n",
      "20999 0.04349123 0.039317694 0.10614909 0.79060686 0.7173295\n",
      "21999 0.04833451 0.044144716 0.09491032 0.91033125 0.6763523\n",
      "22999 0.04924099 0.044235446 0.11315689 0.8723183 0.6711705\n",
      "23999 0.046526477 0.041252762 0.12783907 0.8138605 0.70114195\n",
      "24999 0.04645706 0.042047184 0.10487923 0.81873494 0.6677647\n",
      "25999 0.04668735 0.041669447 0.1204216 0.82850724 0.6717045\n",
      "26999 0.044936627 0.03965008 0.13333005 0.80295974 0.6869937\n",
      "27999 0.049643606 0.044784594 0.1084974 0.8699937 0.68265206\n",
      "28999 0.051890746 0.04677864 0.10928282 0.91486895 0.68463606\n",
      "29999 0.048111446 0.04388962 0.096191905 0.8576532 0.688166\n",
      "CPU times: user 1min 15s, sys: 13 s, total: 1min 28s\n",
      "Wall time: 52.8 s\n"
     ]
    }
   ],
   "source": [
    "%%time\n",
    "tf.reset_default_graph()\n",
    "\n",
    "x_dim = 1\n",
    "n_samples = 100\n",
    "y_dim = 1\n",
    "\n",
    "with tf.name_scope('X'):\n",
    "    x_within = tf.placeholder(shape=[n_samples, x_dim], dtype='float32',\n",
    "                              name='x_within')\n",
    "    x_boundary = tf.constant([[0.0], [1.0]], dtype='float32',\n",
    "                             name='x_boundary')\n",
    "    \n",
    "with tf.name_scope('HiddenLayers'):\n",
    "    hidden_layers = []\n",
    "    for i in range(3):\n",
    "        hidden_layers += [\n",
    "            lambda x: tf.layers.dense(\n",
    "                x, 10, activation=tf.tanh),\n",
    "        ]\n",
    "\n",
    "ops = make_loss(\n",
    "    x_within, x_boundary,\n",
    "    lambda x: make_neural_network(x, hidden_layers, [y_dim]))\n",
    "\n",
    "# For optimizing\n",
    "#optimizer = tf.train.AdamOptimizer(0.003)\n",
    "optimizer = tf.train.RMSPropOptimizer(0.001)\n",
    "train_op = optimizer.minimize(ops.loss)\n",
    "\n",
    "# For logging\n",
    "tf.summary.scalar('loss', ops.loss)\n",
    "summary_op = tf.summary.merge_all()\n",
    "\n",
    "with tf.Session() as sess:\n",
    "\n",
    "    # -- Initializing\n",
    "    # For logging\n",
    "    current_time = datetime.now().strftime(\"%Y%m%d-%H%M%S\")\n",
    "    writer = tf.summary.FileWriter('../dat/logdir/'+ current_time, sess.graph)\n",
    "    # Initialize all `tf.Variable`s, explicit or implicit\n",
    "    sess.run(tf.global_variables_initializer())\n",
    "\n",
    "    # -- Optimizing\n",
    "\n",
    "    # Parameters\n",
    "    n_iters = 3*10**4\n",
    "\n",
    "    def get_x_within_value():\n",
    "        x_within_value = np.array(\n",
    "            [[np.random.random()] for _ in range(n_samples)],\n",
    "            dtype='float32')\n",
    "        return x_within_value\n",
    "\n",
    "    # Iterations\n",
    "    for step in range(n_iters):\n",
    "        iter_ops = [train_op, summary_op, ops.loss, ops.y,\n",
    "                    ops.grad_y, ops.action_part, ops.boundary_part]\n",
    "        feed_dict = {x_within: get_x_within_value()}\n",
    "        result = sess.run(iter_ops, feed_dict=feed_dict)\n",
    "        _, summary, loss, y, grad_y, action_part, boundary_part = result\n",
    "        \n",
    "        # Logging\n",
    "        if (step+1) % 1000 == 0:\n",
    "            writer.add_summary(summary, step)\n",
    "            print(step, loss, action_part, boundary_part,\n",
    "                  l1_norm(grad_y), l1_norm(y))\n",
    "\n",
    "    # Return the predict-values of the trained neural network\n",
    "    x_within_value = np.linspace(0, 1, n_samples, dtype='float32')\n",
    "    x_within_value = np.expand_dims(x_within_value, axis=1)\n",
    "    y_within_value = sess.run(\n",
    "        ops.y_within,\n",
    "        feed_dict={x_within: x_within_value})"
   ]
  },
  {
   "cell_type": "code",
   "execution_count": 14,
   "metadata": {},
   "outputs": [
    {
     "data": {
      "text/plain": [
       "[<matplotlib.lines.Line2D at 0x116c77c88>]"
      ]
     },
     "execution_count": 14,
     "metadata": {},
     "output_type": "execute_result"
    },
    {
     "data": {
      "image/png": "[encoded data removed]",
      "text/plain": [
       "<matplotlib.figure.Figure at 0x1174b60b8>"
      ]
     },
     "metadata": {},
     "output_type": "display_data"
    }
   ],
   "source": [
    "# Visualization\n",
    "plt.plot(x_within_value, y_within_value)"
   ]
  }
 ],
 "metadata": {
  "kernelspec": {
   "display_name": "Python 3",
   "language": "python",
   "name": "python3"
  },
  "language_info": {
   "codemirror_mode": {
    "name": "ipython",
    "version": 3
   },
   "file_extension": ".py",
   "mimetype": "text/x-python",
   "name": "python",
   "nbconvert_exporter": "python",
   "pygments_lexer": "ipython3",
   "version": "3.6.0"
  }
 },
 "nbformat": 4,
 "nbformat_minor": 2
}

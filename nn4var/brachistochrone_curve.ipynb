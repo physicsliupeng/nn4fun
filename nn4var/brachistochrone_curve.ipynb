{
 "cells": [
  {
   "cell_type": "markdown",
   "metadata": {},
   "source": [
    "# Neural Network for Variation Problem"
   ]
  },
  {
   "cell_type": "markdown",
   "metadata": {},
   "source": [
    "## Brachistochrone Curve"
   ]
  },
  {
   "cell_type": "markdown",
   "metadata": {},
   "source": [
    "For reference, c.f. [here](https://baike.baidu.com/item/%E6%9C%80%E9%80%9F%E9%99%8D%E7%BA%BF%E9%97%AE%E9%A2%98).\n",
    "\n",
    "Another code for this problem (also in TensorFlow) can be found [herein](https://github.com/yimuw/Let-Tensor-Flow/blob/master/control/brachistochrone_curve.py)."
   ]
  },
  {
   "cell_type": "markdown",
   "metadata": {},
   "source": [
    "For a trajectory $y(x)$ for $\\forall x \\in [x_0, x_1]$, the action (loss), as the total time spent, is given by\n",
    "\\begin{equation}\n",
    "  \\mathcal{L}[y] = \\int_{x_0}^{x_1} d x \\frac{ \\sqrt{ 1 + {y^{\\prime}}^2 (x) } } { \\sqrt{ 2 g \\left( y_0 - y(x) \\right) } },\n",
    "\\end{equation}\n",
    "with boundary condition\n",
    "$$ y(x_0) = y_0 \\;, y(x_1) = y_1 , $$\n",
    "where $g$ is the gravitational constant and $y_0 > y_1$."
   ]
  },
  {
   "cell_type": "code",
   "execution_count": 1,
   "metadata": {},
   "outputs": [],
   "source": [
    "%matplotlib inline\n",
    "\n",
    "import numpy as np\n",
    "import tensorflow as tf\n",
    "from matplotlib import pyplot as plt\n",
    "from datetime import datetime\n",
    "from collections import namedtuple\n",
    "import random as rn\n",
    "import os\n",
    "\n",
    "# Global parameters\n",
    "_SEED = 42\n",
    "_EPSILON = 1e-8\n",
    "\n",
    "# For reproducibility\n",
    "os.environ['PYTHONHASHSEED'] = '0'\n",
    "np.random.seed(_SEED)\n",
    "rn.seed(_SEED)\n",
    "tf.set_random_seed(_SEED)"
   ]
  },
  {
   "cell_type": "markdown",
   "metadata": {},
   "source": [
    "Employ Monte-Carlo approximation. Let $\\{ x_i: i = 1, \\ldots, N \\} \\sim \\text{Uniform}(x_0, x_1)$, the action with boundary condition and penalty becomes\n",
    "\\begin{equation}\n",
    "  \\mathcal{L}[y] = \\frac{1}{N} \\sum_{i=1}^{N} \n",
    "                      \\frac{ \\sqrt{ 1 + {y^{\\prime}}^2 (x_i) } }{ \\sqrt{ 2 g \\left( y_0 - y(x_i) \\right) } }\n",
    "                 + \\frac{1}{2} \\sum_{ x_b \\in \\{x_0, x_1\\} } d(y(x_b)), \n",
    "\\end{equation}\n",
    "with some pre-defined distance $d$."
   ]
  },
  {
   "cell_type": "code",
   "execution_count": 10,
   "metadata": {
    "collapsed": true
   },
   "outputs": [],
   "source": [
    "def make_neural_network(x, hidden_layers, output_shape, name=None):\n",
    "  \"\"\"Implement the generic neural network with the dense linear output\n",
    "  layer.\n",
    "  Args:\n",
    "    x: Tensor-like, as the input of the neural network. It's shape is\n",
    "        of `[batch_size] + x_shape`.\n",
    "    hidden_layers: List of objects of the classes in `tf.layers`.\n",
    "    output_shape: List of integers.\n",
    "  Returns:\n",
    "    The output tensor of the neural network.\n",
    "  \"\"\"\n",
    "  with tf.name_scope(name, 'NeuralNetwork', [x]):\n",
    "    x = tf.convert_to_tensor(x)\n",
    "    \n",
    "    # Hidden layers\n",
    "    hidden = x  # initialize.\n",
    "    for layer in hidden_layers:\n",
    "      hidden = layer(hidden)\n",
    "    \n",
    "    # Output layer\n",
    "    flatten_hidden = tf.layers.flatten(hidden)\n",
    "    output_size = sum(flatten(output_shape))\n",
    "    output = tf.layers.dense(flatten_hidden, output_size)\n",
    "    output = tf.reshape(output, [-1]+output_shape)\n",
    "\n",
    "  return output\n",
    "\n",
    "\n",
    "def flatten(nested_list):\n",
    "    \"\"\"Helper. (Recursively) flatten an arbitrarily nested list.\"\"\"\n",
    "    if nested_list == []:\n",
    "        return nested_list\n",
    "    if isinstance(nested_list[0], list):\n",
    "        return flatten(nested_list[0]) + flatten(nested_list[1:])\n",
    "    return nested_list[:1] + flatten(nested_list[1:])"
   ]
  },
  {
   "cell_type": "code",
   "execution_count": 11,
   "metadata": {},
   "outputs": [],
   "source": [
    "def make_action(y_bulk, grad_y_bulk, y_0, g=9.8, epsilon=_EPSILON, name=None):\n",
    "    \"\"\"Implements the action in Monte-Carlo integral.\n",
    "    \n",
    "    The action is a Monte-Carlo integral IN THE BULK.\n",
    "    \n",
    "    Args:\n",
    "      y: Tensor-like, with shape `[batch_size] + y_shape`.\n",
    "      grad_y: Tensor-like, with shape `[batch_size] + y_shape`.\n",
    "      y_0: Tensor-like, with shape `y_shape`.\n",
    "      g: Scalar-like, as the gravitational constant, optional.\n",
    "      epsilon: Scalar-like, for numerical stability, optional.\n",
    "    Returns:\n",
    "      Scalar.\n",
    "    \"\"\"\n",
    "    with tf.name_scope(name, 'Action', [y, grad_y_bulk, y_0]):\n",
    "      y_bulk = tf.convert_to_tensor(y_bulk)\n",
    "      grad_y_bulk = tf.convert_to_tensor(grad_y_bulk)\n",
    "      y_0 = tf.convert_to_tensor(y_0)\n",
    "      # Add `batch_size`-dimension\n",
    "      y_0 = tf.expand_dims(y_0, axis=0)\n",
    "    \n",
    "      with tf.name_scope('DeltaHeight'):\n",
    "        delta_y = y_0 - y_bulk\n",
    "        # Clip `delta_y` so as to keep it positive\n",
    "        delta_y = tf.where(delta_y > 0.0, delta_y, tf.zeros_like(delta_y))\n",
    "        \n",
    "      with tf.name_scope('Lagrangian'):\n",
    "        lagrangians = tf.truediv(\n",
    "            tf.sqrt(1.0 + grad_y_bulk**2),\n",
    "            tf.sqrt(2.0 * g * delta_y) + epsilon)\n",
    "        \n",
    "      action = tf.reduce_mean(lagrangians)\n",
    "      return action\n",
    "\n",
    "\n",
    "def make_boundary(y_boundary, target_y_boundary, n=4, lambda_=10.0, name=None):\n",
    "  \"\"\"Make the boundary term, vanishing of which makes the fitting of boundary.\n",
    "  \n",
    "  $ b(y, y_b) := \\lambda * \\norm{y - y_b}_n $\n",
    "  \n",
    "  Args:\n",
    "    y_boundary: Tensor-like, with the shape `[n_boundary] + y_shape`, as the\n",
    "        boundary given by the neural network, as the $y$.\n",
    "    target_y_boundary: Tensor-like, with the shape `[n_boundary] + y_shape`,\n",
    "        as the target boundary to fit, as the $y_b$.\n",
    "    n: Positive integer, employ L-`n` norm.\n",
    "    lambda: Positive float.\n",
    "  Returns:\n",
    "    Scalar.\n",
    "  \"\"\"\n",
    "  with tf.name_scope(name, 'Boundary', [y_boundary, target_y_boundary]):\n",
    "    y_boundary = tf.convert_to_tensor(y_boundary)\n",
    "    target_y_boundary = tf.convert_to_tensor(target_y_boundary)\n",
    "    # `delta` shall be vanishing\n",
    "    delta = (y_boundary - target_y_boundary)\n",
    "    boundary = lambda_ * l_n_norm(delta, n)\n",
    "    return boundary\n",
    "\n",
    "\n",
    "def l_n_norm(x, n, name=None):\n",
    "  \"\"\"L-`n` norm of tensor `x`.\"\"\"\n",
    "  with tf.name_scope(name, 'L{}_Norm'.format(n), [x]):\n",
    "    x = tf.convert_to_tensor(x)\n",
    "    norm = tf.reduce_mean(x**n)\n",
    "    return norm"
   ]
  },
  {
   "cell_type": "code",
   "execution_count": 12,
   "metadata": {
    "collapsed": true
   },
   "outputs": [],
   "source": [
    "ResultOps = namedtuple('ResultOps',\n",
    "    'loss, grad_y_bulk, y_bulk, y_boundary, action, boundary')\n",
    "\n",
    "\n",
    "def make_loss(x_bulk, x_boundary, target_y_boundary, make_y,\n",
    "              name=None):\n",
    "  \"\"\"Implements the loss.\n",
    "  \n",
    "  It is found that `loss = action * (1 + boundary)` is much more numerically\n",
    "  stable and performs much better than `loss = action + boundary`.\n",
    "  \n",
    "  XXX: Why so?\n",
    "  \n",
    "  Args:\n",
    "    x_bulk: Tensor-like, with shape `[batch_size] + x_shape`, as the\n",
    "        non-boundary values of the input to the neural network.\n",
    "    x_boundary: Tensor-like, with shape `[n_boundaries] + x_shape`, as\n",
    "        the boundary values of the input to the neural network.\n",
    "    target_y_boundary: Tensor-like, with the shape `[n_boundary] + y_shape`,\n",
    "        as the target boundary to fit.\n",
    "    make_y: Callable that maps `x` to the neural network output.\n",
    "  Returns:\n",
    "    Scalar.\n",
    "  \"\"\"\n",
    "  with tf.name_scope(name, 'Loss',\n",
    "        [x_bulk, x_boundary, target_y_boundary]):\n",
    "    x_bulk = tf.convert_to_tensor(x_bulk)\n",
    "    x_boundary = tf.convert_to_tensor(x_boundary)\n",
    "    target_y_boundary = tf.convert_to_tensor(target_y_boundary)\n",
    "    \n",
    "    x = tf.concat([x_bulk, x_boundary], axis=0)    \n",
    "    y = make_y(x)\n",
    "\n",
    "    batch_size = x_bulk.get_shape().as_list()[0]\n",
    "    n_boundary = x_boundary.get_shape().as_list()[0]\n",
    "    y_bulk, y_boundary = tf.split(y, [batch_size, n_boundary],\n",
    "                                  axis=0)\n",
    "    grad_y_bulk = tf.gradients(y_bulk, [x_bulk])[0]\n",
    "    y_0 = tf.unstack(target_y_boundary, axis=0)[0]\n",
    "\n",
    "    action = make_action(y_bulk, grad_y_bulk, y_0)\n",
    "    boundary = make_boundary(y_boundary, target_y_boundary)\n",
    "    loss = action * (1 + boundary)\n",
    "\n",
    "  return ResultOps(loss, grad_y_bulk, y_bulk, y_boundary, action, boundary)"
   ]
  },
  {
   "cell_type": "code",
   "execution_count": 5,
   "metadata": {
    "collapsed": true
   },
   "outputs": [],
   "source": [
    "def l1_norm(x):\n",
    "    \"\"\"L1-norm.\"\"\"\n",
    "    return np.mean(np.abs(x))"
   ]
  },
  {
   "cell_type": "code",
   "execution_count": 13,
   "metadata": {
    "scrolled": false
   },
   "outputs": [
    {
     "name": "stdout",
     "output_type": "stream",
     "text": [
      "CPU times: user 3.16 s, sys: 10 ms, total: 3.17 s\n",
      "Wall time: 3.14 s\n"
     ]
    }
   ],
   "source": [
    "%%time\n",
    "tf.reset_default_graph()\n",
    "\n",
    "x_dim = 1\n",
    "n_samples = 100\n",
    "y_dim = 1\n",
    "\n",
    "x_bulk = tf.placeholder(shape=[n_samples, x_dim], dtype='float32',\n",
    "                        name='x_bulk')\n",
    "x_boundary = np.array([[0.0], [3.0]], dtype='float32')\n",
    "target_y_boundary = np.array([[0.0], [-1.0]], dtype='float32')\n",
    "\n",
    "hidden_layers = []\n",
    "for i in range(5):\n",
    "    hidden_layers += [\n",
    "        lambda x: tf.layers.dense(\n",
    "            x, 10, activation=tf.nn.sigmoid),\n",
    "        lambda x: tf.layers.dropout(x),\n",
    "    ]\n",
    "        \n",
    "def make_y(x):\n",
    "    return make_neural_network(x, hidden_layers, [y_dim])\n",
    "\n",
    "ops = make_loss(x_bulk, x_boundary, target_y_boundary, make_y)\n",
    "\n",
    "# For optimizing\n",
    "optimizer = tf.train.AdamOptimizer(0.01)\n",
    "train_op = optimizer.minimize(ops.loss)\n",
    "\n",
    "# For logging\n",
    "tf.summary.scalar('loss', ops.loss)\n",
    "summary_op = tf.summary.merge_all()\n",
    "\n",
    "sess_config = tf.ConfigProto(device_count={'GPU': 0})  # CPU only.\n",
    "sess = tf.Session(config=sess_config)\n",
    "\n",
    "# -- Initializing\n",
    "# For logging\n",
    "current_time = datetime.now().strftime(\"%Y%m%d-%H%M%S\")\n",
    "writer = tf.summary.FileWriter('../dat/logdir/'+ current_time, sess.graph)\n",
    "# Initialize all `tf.Variable`s, explicit or implicit\n",
    "sess.run(tf.global_variables_initializer())"
   ]
  },
  {
   "cell_type": "code",
   "execution_count": 14,
   "metadata": {
    "scrolled": true
   },
   "outputs": [
    {
     "name": "stdout",
     "output_type": "stream",
     "text": [
      "1000 0.266656 0.255405 0.0440526 0.288139 1.05377\n",
      "2000 0.270422 0.259624 0.0415879 0.300666 1.0794\n",
      "3000 0.285345 0.276613 0.031569 0.320508 0.997551\n",
      "4000 0.275951 0.268054 0.0294611 0.356027 0.999261\n",
      "5000 0.267021 0.257313 0.0377279 0.293182 1.05868\n",
      "6000 0.257481 0.244795 0.0518239 0.24173 1.08339\n",
      "7000 0.276747 0.267217 0.0356622 0.323406 1.0346\n",
      "8000 0.269339 0.253637 0.061909 0.292319 1.04626\n",
      "9000 0.265347 0.257874 0.0289788 0.274811 1.05872\n",
      "10000 0.266215 0.257482 0.0339172 0.291734 1.01964\n",
      "11000 0.275684 0.265649 0.0377743 0.339838 1.02664\n",
      "12000 0.256908 0.249721 0.0287797 0.251535 1.05984\n",
      "13000 0.272998 0.264662 0.0314959 0.325004 1.03875\n",
      "14000 0.267495 0.253286 0.0560985 0.284837 1.09851\n",
      "15000 0.287321 0.276491 0.0391711 0.37071 0.970534\n",
      "16000 0.262961 0.255718 0.0283254 0.304206 1.06018\n",
      "17000 0.256616 0.248626 0.0321366 0.253657 1.08373\n",
      "18000 0.257265 0.247593 0.039065 0.277762 1.06883\n",
      "19000 0.277573 0.269131 0.0313666 0.292857 0.999471\n",
      "20000 0.272149 0.260339 0.0453663 0.294444 1.04065\n",
      "21000 0.246597 0.236363 0.0432971 0.224966 1.09963\n",
      "22000 0.275841 0.263669 0.0461644 0.29757 1.03964\n",
      "23000 0.262965 0.252183 0.0427533 0.295454 1.01602\n",
      "24000 0.269634 0.260969 0.0332038 0.31028 1.00416\n",
      "25000 0.267193 0.258642 0.0330601 0.324683 1.04481\n",
      "26000 0.254835 0.245846 0.0365623 0.315496 1.13767\n",
      "27000 0.262998 0.252036 0.0434937 0.423246 1.18715\n",
      "28000 0.259174 0.248754 0.0418902 0.369058 1.18223\n",
      "29000 0.2649 0.255373 0.0373077 0.390487 1.1769\n",
      "30000 0.274585 0.26509 0.0358169 0.432282 1.05676\n",
      "31000 0.277263 0.267229 0.0375484 0.435236 1.07661\n",
      "32000 0.271547 0.260784 0.0412726 0.431903 1.13789\n",
      "33000 0.255461 0.245636 0.0400003 0.378947 1.15931\n",
      "34000 0.266593 0.258124 0.0328071 0.409565 1.16552\n",
      "35000 0.266901 0.257703 0.0356945 0.422404 1.1561\n",
      "36000 0.26872 0.258037 0.0414014 0.441986 1.08744\n",
      "37000 0.25196 0.241675 0.0425565 0.328025 1.16722\n",
      "38000 0.264703 0.252063 0.0501474 0.396829 1.12205\n",
      "39000 0.307097 0.293885 0.0449587 0.522065 1.0525\n",
      "40000 0.272539 0.260123 0.0477307 0.427771 1.13109\n"
     ]
    }
   ],
   "source": [
    "# -- Optimizing\n",
    "\n",
    "# Parameters\n",
    "n_iters = 4*10**4\n",
    "\n",
    "def get_x_bulk_value():\n",
    "    x_bulk_value = []\n",
    "    for i in range(n_samples):\n",
    "        x_i = [-np.random.uniform(-x_boundary[1,0], -x_boundary[0,0])]\n",
    "        x_bulk_value.append(x_i)\n",
    "    x_bulk_value = np.array(x_bulk_value, dtype='float32')\n",
    "    x_bulk_value = np.sort(x_bulk_value, axis=0)\n",
    "    return x_bulk_value\n",
    "\n",
    "# Iterations\n",
    "for i in range(n_iters):\n",
    "    step = i + 1\n",
    "    iter_ops = [train_op, summary_op, ops.loss, ops.y_bulk,\n",
    "                ops.grad_y_bulk, ops.action, ops.boundary]\n",
    "    x_bulk_value = get_x_bulk_value()\n",
    "    result = sess.run(iter_ops, feed_dict={x_bulk: x_bulk_value})\n",
    "    _, summary, loss, y, grad_y, action, boundary = result\n",
    "    \n",
    "    # For debugging\n",
    "    if np.isnan(loss):\n",
    "        print(step, loss, action, boundary, grad_y, x_bulk_value, y)\n",
    "        break\n",
    "\n",
    "    # Logging\n",
    "    if step % 1000 == 0:\n",
    "        writer.add_summary(summary, step)\n",
    "        print(step, loss, action, boundary,\n",
    "              l1_norm(grad_y), l1_norm(y))"
   ]
  },
  {
   "cell_type": "code",
   "execution_count": 15,
   "metadata": {},
   "outputs": [
    {
     "data": {
      "text/plain": [
       "[<matplotlib.lines.Line2D at 0x7f3e54087c18>]"
      ]
     },
     "execution_count": 15,
     "metadata": {},
     "output_type": "execute_result"
    },
    {
     "data": {
      "image/png": "[encoded data removed]",
      "text/plain": [
       "<matplotlib.figure.Figure at 0x7f3ebc3815c0>"
      ]
     },
     "metadata": {},
     "output_type": "display_data"
    }
   ],
   "source": [
    "# Return the predict-values of the trained neural network\n",
    "x_bulk_value = np.linspace(x_boundary[0,0], x_boundary[1,0],\n",
    "                           n_samples, dtype='float32')\n",
    "x_bulk_value = np.expand_dims(x_bulk_value, axis=1)\n",
    "y_bulk_value = sess.run(\n",
    "    ops.y_bulk,\n",
    "    feed_dict={x_bulk: x_bulk_value})\n",
    "\n",
    "# Visualization\n",
    "plt.plot(x_bulk_value, y_bulk_value)"
   ]
  },
  {
   "cell_type": "code",
   "execution_count": 9,
   "metadata": {
    "collapsed": true
   },
   "outputs": [],
   "source": [
    "sess.close()"
   ]
  },
  {
   "cell_type": "markdown",
   "metadata": {},
   "source": [
    "TODO:\n",
    "  * Compare with analytic result.\n",
    "  * Coherent the numerical stability at boundary and the penalty to the boundary."
   ]
  }
 ],
 "metadata": {
  "kernelspec": {
   "display_name": "Python 3",
   "language": "python",
   "name": "python3"
  },
  "language_info": {
   "codemirror_mode": {
    "name": "ipython",
    "version": 3
   },
   "file_extension": ".py",
   "mimetype": "text/x-python",
   "name": "python",
   "nbconvert_exporter": "python",
   "pygments_lexer": "ipython3",
   "version": "3.6.1"
  }
 },
 "nbformat": 4,
 "nbformat_minor": 2
}

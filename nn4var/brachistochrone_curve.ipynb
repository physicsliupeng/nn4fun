{
 "cells": [
  {
   "cell_type": "markdown",
   "metadata": {},
   "source": [
    "# Neural Network for Variation Problem"
   ]
  },
  {
   "cell_type": "markdown",
   "metadata": {},
   "source": [
    "## Brachistochrone Curve"
   ]
  },
  {
   "cell_type": "markdown",
   "metadata": {},
   "source": [
    "For reference, c.f. [here](https://baike.baidu.com/item/%E6%9C%80%E9%80%9F%E9%99%8D%E7%BA%BF%E9%97%AE%E9%A2%98).\n",
    "\n",
    "Another code for this problem (also in TensorFlow) can be found [herein](https://github.com/yimuw/Let-Tensor-Flow/blob/master/control/brachistochrone_curve.py)."
   ]
  },
  {
   "cell_type": "markdown",
   "metadata": {},
   "source": [
    "For a trajectory $y(x)$ for $\\forall x \\in [0, 1]$, the action (loss), as the total time spent, is given by\n",
    "$$ \\mathcal{L}[y] = \\int_0^3 d x \\frac{ \\sqrt{ 1 + {y^{\\prime}}^2 (x) } } { \\sqrt{- 2 g y(x)} } , $$\n",
    "with boundary condition\n",
    "$$ y(0) = 0 \\;, y(3) = -1 , $$\n",
    "where $g$ is the gravitational constant. Ensure that $y(x) \\le 0, \\forall x \\in [0, 1]$."
   ]
  },
  {
   "cell_type": "code",
   "execution_count": 1,
   "metadata": {},
   "outputs": [
    {
     "name": "stderr",
     "output_type": "stream",
     "text": [
      "/Users/shuiruge/anaconda/lib/python3.6/importlib/_bootstrap.py:205: RuntimeWarning: compiletime version 3.5 of module 'tensorflow.python.framework.fast_tensor_util' does not match runtime version 3.6\n",
      "  return f(*args, **kwds)\n"
     ]
    }
   ],
   "source": [
    "%matplotlib inline\n",
    "\n",
    "import numpy as np\n",
    "import tensorflow as tf\n",
    "from matplotlib import pyplot as plt\n",
    "from datetime import datetime\n",
    "from collections import namedtuple"
   ]
  },
  {
   "cell_type": "markdown",
   "metadata": {},
   "source": [
    "Employ Monte-Carlo approximation. Let $\\{ x_i: i = 1, \\ldots, N \\} \\sim \\text{Uniform}(0, 3)$, the action with boundary condition and penalty becomes\n",
    "$$\n",
    "  \\mathcal{L}[y] = \\frac{1}{N} \\sum_{i=1}^{N} \\frac{ \\sqrt{ 1 + {y^{\\prime}}^2 (x_i) } } { \\sqrt{-2 g y(x_i)} }\n",
    "       + \\frac{\\lambda}{2} \\sum_{ x_b \\in \\{0, 3\\} } d(y(x_b), 0), \n",
    "$$\n",
    "with some adjustable hyper-parameter $\\lambda \\in \\mathbb{R}^+$ and some pre-defined distance $d$."
   ]
  },
  {
   "cell_type": "code",
   "execution_count": 2,
   "metadata": {},
   "outputs": [],
   "source": [
    "# -- Helpers\n",
    "\n",
    "def l1_norm(x):\n",
    "    \"\"\"L1-norm.\"\"\"\n",
    "    return np.mean(np.abs(x))\n",
    "\n",
    "def flatten(nested_list):\n",
    "    \"\"\"Helper. (Recursively) flatten an arbitrarily nested list.\"\"\"\n",
    "    if nested_list == []:\n",
    "        return nested_list\n",
    "    if isinstance(nested_list[0], list):\n",
    "        return flatten(nested_list[0]) + flatten(nested_list[1:])\n",
    "    return nested_list[:1] + flatten(nested_list[1:])"
   ]
  },
  {
   "cell_type": "code",
   "execution_count": 3,
   "metadata": {},
   "outputs": [],
   "source": [
    "def make_neural_network(x, hidden_layers, output_shape, name=None):\n",
    "  \"\"\"Implement the neural network with dense hidden layers, each with\n",
    "  the same activation-function `activation`, and regularized by a\n",
    "  dropout layer with dropout-rate as the default (i.e. 0.5).\n",
    "  Args:\n",
    "    x: Tensor-like, as the input of the neural network. It's shape is\n",
    "        of `[batch_size] + x_shape`.\n",
    "    hidden_layers: List of objects of the classes in `tf.layers`.\n",
    "    output_shape: List of integers.\n",
    "  Returns:\n",
    "    The output tensor of the neural network.\n",
    "  \"\"\"\n",
    "  x = tf.convert_to_tensor(x, name='x')\n",
    "\n",
    "  with tf.name_scope(name, 'NeuralNetwork', [x]):\n",
    "    \n",
    "    # Hidden layers\n",
    "    hidden = x  # initialize.\n",
    "    for layer in hidden_layers:\n",
    "      hidden = layer(hidden)\n",
    "    \n",
    "    # Output layer\n",
    "    flatten_hidden = tf.layers.flatten(hidden)\n",
    "    output_size = sum(flatten(output_shape))\n",
    "    output = tf.layers.dense(flatten_hidden, output_size)\n",
    "    output = tf.reshape(output, [-1]+output_shape)\n",
    "\n",
    "  return output"
   ]
  },
  {
   "cell_type": "code",
   "execution_count": 4,
   "metadata": {},
   "outputs": [],
   "source": [
    "def action(y, grad_y, g=9.8, epsilon=1e-8, name=None):\n",
    "    \"\"\"Implements the action.\n",
    "    Args:\n",
    "      y: Tensor-like, with shape `[batch_size] + y_shape`.\n",
    "      grad_y: Tensor-like, with shape `[batch_size] + y_shape`.\n",
    "    Returns:\n",
    "      Scalar.\n",
    "    \"\"\"\n",
    "    y = tf.convert_to_tensor(y, name='y')\n",
    "    grad_y = tf.convert_to_tensor(grad_y, name='grad_y')\n",
    "    with tf.name_scope(name, 'Action', [y, grad_y]):\n",
    "      delta_height = tf.where(y < 0.0, y, tf.zeros(y.shape))\n",
    "      lagrangians = tf.truediv(\n",
    "          tf.sqrt(1.0 + tf.square(grad_y)),\n",
    "          tf.sqrt(- 2.0 * g * delta_height + epsilon))\n",
    "      return tf.reduce_mean(lagrangians)\n",
    "    \n",
    "    \n",
    "def make_distance(x, y, name=None):\n",
    "  \"\"\"Mean square distance between tensors `x` and `y`.\"\"\"\n",
    "  with tf.name_scope(name, 'MeanSquareDistance', [x, y]):\n",
    "    distance = tf.reduce_mean(tf.square(x - y))\n",
    "  return distance\n",
    "\n",
    "\n",
    "LossOps = namedtuple('LossOps',\n",
    "    'loss, y, grad_y, y_within, y_boundary, action_part, boundary_part')\n",
    "\n",
    "def make_loss(x_within, x_boundary, make_neural_network,\n",
    "              lambda_=10.0, name=None):\n",
    "  \"\"\"Implements the loss.\n",
    "  Args:\n",
    "    x_within: Tensor-like, with shape `[batch_size] + x_shape`, as the\n",
    "        non-boundary values of the input to the neural network.\n",
    "    x_boundary: Tensor-like, with shape `[n_boundaries] + x_shape`, as\n",
    "        the boundary values of the input to the neural network.\n",
    "    make_neural_network: Callable that maps `x` to the neural network\n",
    "        output.\n",
    "    lambda_: Float, as the $lambda$ in the formula of loss.\n",
    "  Returns:\n",
    "    Scalar, as the loss.\n",
    "  \"\"\"\n",
    "  x_within = tf.convert_to_tensor(x_within, name='x_within')\n",
    "  x_boundary = tf.convert_to_tensor(x_boundary, name='x_boundary')\n",
    "    \n",
    "  x = tf.concat([x_within, x_boundary], axis=0)    \n",
    "  y = make_neural_network(x)    \n",
    "\n",
    "  batch_size = x_within.get_shape().as_list()[0]\n",
    "  n_boundary = x_boundary.get_shape().as_list()[0]\n",
    "  y_within, y_boundary = tf.split(y, [batch_size, n_boundary],\n",
    "                                  axis=0)\n",
    "  grad_y = tf.gradients(y, [x])[0]\n",
    "\n",
    "  with tf.name_scope(name, 'Loss'):\n",
    "    lambda_ = tf.constant(lambda_, dtype='float32')\n",
    "    action_part = action(y, grad_y)\n",
    "    boundary = tf.constant([[0.0], [-1.0]], dtype='float32')\n",
    "    boundary_part = lambda_ * make_distance(y_boundary, boundary)\n",
    "    #loss = action_part + boundary_part\n",
    "    loss = action_part * (1.0 + boundary_part)  # for arbitrary choice.\n",
    "\n",
    "  return LossOps(loss, y, grad_y, y_within, y_boundary,\n",
    "                 action_part, boundary_part)"
   ]
  },
  {
   "cell_type": "code",
   "execution_count": 5,
   "metadata": {
    "scrolled": false
   },
   "outputs": [
    {
     "name": "stdout",
     "output_type": "stream",
     "text": [
      "999 1.2574654 0.23390804 4.3758965 0.00036610762 0.9325102\n",
      "1999 1.24005 0.23557548 4.263918 0.0003388078 0.9193559\n",
      "2999 1.2118192 0.23848656 4.0812893 0.00030287527 0.8970489\n",
      "3999 1.1719755 0.24319413 3.819095 0.00024115361 0.86265624\n",
      "4999 1.1238164 0.2503334 3.4892786 0.00014848319 0.81415343\n",
      "5999 1.0784458 0.2600842 3.1465256 7.190925e-06 0.75425106\n",
      "6999 1.0505915 0.27081457 2.879376 0.0002184566 0.6956644\n",
      "7999 1.0414904 0.27855492 2.7389052 0.0006151478 0.65754056\n",
      "8999 1.0371915 0.28132677 2.6867857 0.0015006423 0.64465064\n",
      "9999 1.0226088 0.28200838 2.6261644 0.005192459 0.6415798\n",
      "10999 0.8799593 0.28078303 2.1339476 0.032904785 0.65020984\n",
      "11999 0.4774284 0.27415946 0.741426 0.10653598 0.74468595\n",
      "12999 0.31472152 0.29520044 0.06612823 0.29462832 0.8642909\n",
      "13999 0.32132757 0.3061746 0.04949126 0.3109526 0.86752367\n",
      "14999 0.3227609 0.3067556 0.052176084 0.30170187 0.87969714\n",
      "15999 0.29716253 0.28323102 0.049187787 0.27615932 0.89080524\n",
      "16999 0.3045095 0.29075542 0.047304623 0.24830802 0.89602256\n",
      "17999 0.31056952 0.29587245 0.049673684 0.271339 0.88695544\n",
      "18999 0.32638046 0.31173083 0.046994448 0.32232165 0.8683219\n",
      "19999 0.30552194 0.29154935 0.04792519 0.26931268 0.8789605\n",
      "20999 0.31895748 0.30669433 0.039984938 0.3194018 0.8668811\n",
      "21999 0.29325882 0.28089833 0.044003353 0.28741583 0.91705614\n",
      "22999 0.31251928 0.29402214 0.06291064 0.42640242 0.9915489\n",
      "23999 0.34150234 0.32519984 0.05013074 0.51894003 1.0374458\n",
      "24999 0.33023855 0.31417435 0.051131524 0.5071297 0.992912\n",
      "25999 0.3156243 0.2977018 0.060202833 0.40729377 0.9825402\n",
      "26999 0.30428278 0.28352258 0.073222354 0.3926662 1.0153933\n",
      "27999 0.33446744 0.31555378 0.059937965 0.54711413 0.9433523\n",
      "28999 0.3134626 0.30044848 0.04331564 0.47591132 1.0117257\n",
      "29999 0.2760432 0.2580382 0.06977658 0.3535459 1.0559571\n",
      "CPU times: user 1min 37s, sys: 20.6 s, total: 1min 57s\n",
      "Wall time: 1min\n"
     ]
    }
   ],
   "source": [
    "%%time\n",
    "tf.reset_default_graph()\n",
    "\n",
    "x_dim = 1\n",
    "n_samples = 100\n",
    "y_dim = 1\n",
    "\n",
    "with tf.name_scope('X'):\n",
    "    x_within = tf.placeholder(shape=[n_samples, x_dim], dtype='float32',\n",
    "                              name='x_within')\n",
    "    x_boundary = tf.constant([[0.0], [3.0]], dtype='float32',\n",
    "                             name='x_boundary')\n",
    "    \n",
    "with tf.name_scope('HiddenLayers'):\n",
    "    hidden_layers = []\n",
    "    for i in range(5):\n",
    "        hidden_layers += [\n",
    "            lambda x: tf.layers.dense(\n",
    "                x, 10, activation=tf.nn.sigmoid),\n",
    "            lambda x: tf.layers.dropout(x),\n",
    "        ]\n",
    "\n",
    "ops = make_loss(\n",
    "    x_within, x_boundary,\n",
    "    lambda x: make_neural_network(x, hidden_layers, [y_dim]))\n",
    "\n",
    "# For optimizing\n",
    "optimizer = tf.train.AdamOptimizer(0.01)\n",
    "#optimizer = tf.train.RMSPropOptimizer(0.01)  # an arbitrary choice.\n",
    "train_op = optimizer.minimize(ops.loss)\n",
    "\n",
    "# For logging\n",
    "tf.summary.scalar('loss', ops.loss)\n",
    "summary_op = tf.summary.merge_all()\n",
    "\n",
    "with tf.Session() as sess:\n",
    "\n",
    "    # -- Initializing\n",
    "    # For logging\n",
    "    current_time = datetime.now().strftime(\"%Y%m%d-%H%M%S\")\n",
    "    writer = tf.summary.FileWriter('../dat/logdir/'+ current_time, sess.graph)\n",
    "    # Initialize all `tf.Variable`s, explicit or implicit\n",
    "    sess.run(tf.global_variables_initializer())\n",
    "\n",
    "    # -- Optimizing\n",
    "\n",
    "    # Parameters\n",
    "    n_iters = 3*10**4\n",
    "\n",
    "    def get_x_within_value():\n",
    "        x_within_value = np.array(\n",
    "            [[3*np.random.random()] for _ in range(n_samples)],\n",
    "            dtype='float32')\n",
    "        return x_within_value\n",
    "\n",
    "    # Iterations\n",
    "    for step in range(n_iters):\n",
    "        iter_ops = [train_op, summary_op, ops.loss, ops.y,\n",
    "                    ops.grad_y, ops.action_part, ops.boundary_part]\n",
    "        feed_dict = {x_within: get_x_within_value()}\n",
    "        result = sess.run(iter_ops, feed_dict=feed_dict)\n",
    "        _, summary, loss, y, grad_y, action_part, boundary_part = result\n",
    "        \n",
    "        # Logging\n",
    "        if (step+1) % 1000 == 0:\n",
    "            writer.add_summary(summary, step)\n",
    "            print(step, loss, action_part, boundary_part,\n",
    "                  l1_norm(grad_y), l1_norm(y))\n",
    "\n",
    "    # Return the predict-values of the trained neural network\n",
    "    x_within_value = np.linspace(0, 3, n_samples, dtype='float32')\n",
    "    x_within_value = np.expand_dims(x_within_value, axis=1)\n",
    "    y_within_value = sess.run(\n",
    "        ops.y_within,\n",
    "        feed_dict={x_within: x_within_value})"
   ]
  },
  {
   "cell_type": "code",
   "execution_count": 6,
   "metadata": {},
   "outputs": [
    {
     "data": {
      "text/plain": [
       "[<matplotlib.lines.Line2D at 0x121dcd630>]"
      ]
     },
     "execution_count": 6,
     "metadata": {},
     "output_type": "execute_result"
    },
    {
     "data": {
      "image/png": "[encoded data removed]",
      "text/plain": [
       "<matplotlib.figure.Figure at 0x12121f1d0>"
      ]
     },
     "metadata": {},
     "output_type": "display_data"
    }
   ],
   "source": [
    "# Visualization\n",
    "plt.plot(x_within_value, y_within_value)"
   ]
  },
  {
   "cell_type": "markdown",
   "metadata": {},
   "source": [
    "TODO:\n",
    "  * Compare with analytic result."
   ]
  }
 ],
 "metadata": {
  "kernelspec": {
   "display_name": "Python 3",
   "language": "python",
   "name": "python3"
  },
  "language_info": {
   "codemirror_mode": {
    "name": "ipython",
    "version": 3
   },
   "file_extension": ".py",
   "mimetype": "text/x-python",
   "name": "python",
   "nbconvert_exporter": "python",
   "pygments_lexer": "ipython3",
   "version": "3.6.0"
  }
 },
 "nbformat": 4,
 "nbformat_minor": 2
}

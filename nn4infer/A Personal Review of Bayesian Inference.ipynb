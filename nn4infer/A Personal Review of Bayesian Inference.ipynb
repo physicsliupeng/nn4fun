{
 "cells": [
  {
   "cell_type": "code",
   "execution_count": 183,
   "metadata": {
    "slideshow": {
     "slide_type": "-"
    }
   },
   "outputs": [],
   "source": [
    "%matplotlib inline\n",
    "from IPython.display import Image\n",
    "import numpy as np\n",
    "import tensorflow as tf\n",
    "import scipy as sp\n",
    "import tensorflow.contrib.distributions as tfd\n",
    "import matplotlib.pyplot as plt"
   ]
  },
  {
   "cell_type": "markdown",
   "metadata": {
    "collapsed": true,
    "heading_collapsed": true,
    "slideshow": {
     "slide_type": "slide"
    }
   },
   "source": [
    "# Why we Need Bayesian Inference"
   ]
  },
  {
   "cell_type": "markdown",
   "metadata": {
    "heading_collapsed": true,
    "hidden": true
   },
   "source": [
    "## Traditional Machine Learning"
   ]
  },
  {
   "cell_type": "markdown",
   "metadata": {
    "hidden": true
   },
   "source": [
    "Given model hypothesis $H$ parameterized by $\\theta$, and data $D$,\n",
    "\n",
    "\\begin{equation}\n",
    "  p(\\theta \\mid D, H) = \\frac{ p(D \\mid \\theta, H) p(\\theta, H) }{ p(D, H) }\n",
    "\\end{equation}"
   ]
  },
  {
   "cell_type": "markdown",
   "metadata": {
    "hidden": true
   },
   "source": [
    "Bayesian inference $\\to$ traditional machine learning\n",
    "  * likelihood $\\to$ mean square error, cross-entropy, etc.\n",
    "  * prior $\\to$ regularization\n",
    "  * evidence $\\to$ ?"
   ]
  },
  {
   "cell_type": "markdown",
   "metadata": {
    "hidden": true
   },
   "source": [
    "So, what the traditional machine learning does is to find the MAP, as\n",
    "\\begin{equation}\n",
    "  \\theta_{\\star} = \\textrm{argmax}_{\\theta} \\left\\{ p(\\theta \\mid D, H) \\right\\}.\n",
    "\\end{equation}\n",
    "Or equivalently,\n",
    "\\begin{equation}\n",
    "  \\theta_{\\star} = \\textrm{argmin}_{\\theta} \\left\\{ -\\ln p(\\theta \\mid D, H) \\right\\}.\n",
    "\\end{equation}"
   ]
  },
  {
   "cell_type": "markdown",
   "metadata": {
    "heading_collapsed": true,
    "hidden": true
   },
   "source": [
    "## Encodes More Information"
   ]
  },
  {
   "cell_type": "markdown",
   "metadata": {
    "hidden": true
   },
   "source": [
    "* Even for the simplest dataset with the shallowest neural network, the posterior is not that peaky as you imagine!"
   ]
  },
  {
   "cell_type": "markdown",
   "metadata": {
    "hidden": true
   },
   "source": [
    "Herein we consider a feed-forward neural network with one hidden layer of 15 perceptrons, and the MNIST dataset. Naturally, the output distribution is a `Categorical` (thus the loss is cross-entropy). We visualize the log-PDF of the posterior around the MAP: [click](https://10.201.100.168:8000/notebooks/pxjiang/Visualize%20the%20Posterior%20on%20MNIST-Copy1.ipynb)."
   ]
  },
  {
   "cell_type": "markdown",
   "metadata": {
    "hidden": true
   },
   "source": [
    "* We find that some plots, like axis-11410, are flat around MAP, hinting for a uncertainty (non-confidence)."
   ]
  },
  {
   "cell_type": "markdown",
   "metadata": {
    "heading_collapsed": true,
    "hidden": true
   },
   "source": [
    "## Benefits"
   ]
  },
  {
   "cell_type": "markdown",
   "metadata": {
    "heading_collapsed": true,
    "hidden": true
   },
   "source": [
    "### Overcome overconfidence"
   ]
  },
  {
   "cell_type": "markdown",
   "metadata": {
    "hidden": true
   },
   "source": [
    "> Modern neural networks tend to be overconfident on unseen, noisy or incorrectly labelled data and do not produce meaningful uncertainty measures. Bayesian deep learning aims to address this shortcoming.\n",
    "\n",
    "(And more, c.f. the next section.)"
   ]
  },
  {
   "cell_type": "markdown",
   "metadata": {
    "hidden": true
   },
   "source": [
    "\\begin{align}\n",
    "  \\hat{y} & = \\int d\\theta p(\\theta \\mid D, H) f(x; \\theta) \\\\\n",
    "          & = \\mathbb{E}_{\\theta \\sim p(\\theta \\mid D, H)} \\left[ f(x; \\theta) \\right].\n",
    "\\end{align}"
   ]
  },
  {
   "cell_type": "markdown",
   "metadata": {
    "heading_collapsed": true,
    "hidden": true
   },
   "source": [
    "### Model Selection: Bayesian Occam’s razor"
   ]
  },
  {
   "cell_type": "markdown",
   "metadata": {
    "hidden": true
   },
   "source": [
    "Given two model hypothesis $H_1$ and $H_2$, and data $D$,\n",
    "\n",
    "\\begin{equation}\n",
    "  \\frac{ p(H_1 \\mid D) }{ p(H_2 \\mid D) }\n",
    "  = \\frac{ p(H_1, D) p(D) }{ p(H_2, D) p(D) }\n",
    "  = \\frac{ p(H_1, D) }{ p(H_2, D) }\n",
    "\\end{equation}\n",
    "\n",
    "So, the evidence serves as the model selector."
   ]
  },
  {
   "cell_type": "markdown",
   "metadata": {
    "heading_collapsed": true,
    "hidden": true
   },
   "source": [
    "#### Example"
   ]
  },
  {
   "cell_type": "markdown",
   "metadata": {
    "hidden": true
   },
   "source": [
    "Below, the blue curves are the best-fits, the green curves are Bayesian samples, and the blues are the evidences:"
   ]
  },
  {
   "cell_type": "code",
   "execution_count": 85,
   "metadata": {
    "hidden": true
   },
   "outputs": [
    {
     "data": {
      "text/html": [
       "<img src=\"https://qph.fs.quoracdn.net/main-qimg-195314c0d12f02de757bb8618d5fb3dc\"/>"
      ],
      "text/plain": [
       "<IPython.core.display.Image object>"
      ]
     },
     "execution_count": 85,
     "metadata": {},
     "output_type": "execute_result"
    }
   ],
   "source": [
    "Image(url=('https://qph.fs.quoracdn.net/'\n",
    "           'main-qimg-195314c0d12f02de757bb8618d5fb3dc'))"
   ]
  },
  {
   "cell_type": "markdown",
   "metadata": {
    "collapsed": true,
    "heading_collapsed": true,
    "slideshow": {
     "slide_type": "slide"
    }
   },
   "source": [
    "# Approaches to Bayesian Inference"
   ]
  },
  {
   "cell_type": "markdown",
   "metadata": {
    "heading_collapsed": true,
    "hidden": true,
    "slideshow": {
     "slide_type": "slide"
    }
   },
   "source": [
    "## The elder: MCMC"
   ]
  },
  {
   "cell_type": "markdown",
   "metadata": {
    "heading_collapsed": true,
    "hidden": true,
    "slideshow": {
     "slide_type": "subslide"
    }
   },
   "source": [
    "### What is MCMC"
   ]
  },
  {
   "cell_type": "code",
   "execution_count": 17,
   "metadata": {
    "hidden": true,
    "slideshow": {
     "slide_type": "fragment"
    }
   },
   "outputs": [],
   "source": [
    "class Metropolis(object):\n",
    "    \"\"\"Example: Metropolis in one-dimensional space.\"\"\"\n",
    "    \n",
    "    def __init__(self, log_p, inits, random_walk_scale=1):\n",
    "        \"\"\"\n",
    "        Args:\n",
    "            log_p: Callable from float to float, the log-PDF of the posterior.\n",
    "            inits: List of floats, as the initial positions of the chains.\n",
    "            random_walk_scale: Float.\n",
    "        \"\"\"\n",
    "        self.log_p = log_p\n",
    "        self.inits = inits\n",
    "        self.random_walk_scale = random_walk_scale\n",
    "        self.samples = []\n",
    "        \n",
    "    def sample(self):\n",
    "        \"\"\"Adds new sample to `self.samples` for each chain.\"\"\"\n",
    "        if self.samples:\n",
    "            new_sample = [self._sample(x) for x in self.samples[-1]]\n",
    "        else:\n",
    "            new_sample = [self._sample(x) for x in self.inits]\n",
    "        self.samples.append(new_sample)\n",
    "        \n",
    "    def _sample(self, x):\n",
    "        \"\"\"Implements the Metropolis algorithm.\n",
    "        Args:\n",
    "            x: Float.\n",
    "        \"\"\"\n",
    "        new_x = self.random_walk(x)\n",
    "        log_r = log_p(new_x) - log_p(x)\n",
    "        accept_prob = min(np.exp(log_r), 1)\n",
    "        if np.random.random() < accept_prob:\n",
    "            return new_x\n",
    "        else:\n",
    "            return x\n",
    "        \n",
    "    def random_walk(self, x):\n",
    "        \"\"\"Ensures that the distribution is symmetric.\n",
    "        Args:\n",
    "            x: Float.\n",
    "        \"\"\"\n",
    "        new_x = np.random.normal(x, self.random_walk_scale)\n",
    "        return new_x"
   ]
  },
  {
   "cell_type": "markdown",
   "metadata": {
    "heading_collapsed": true,
    "hidden": true,
    "slideshow": {
     "slide_type": "subslide"
    }
   },
   "source": [
    "### Pros and cons"
   ]
  },
  {
   "cell_type": "markdown",
   "metadata": {
    "heading_collapsed": true,
    "hidden": true,
    "slideshow": {
     "slide_type": "fragment"
    }
   },
   "source": [
    "#### Pros: accuracy\n",
    "* The algorithm ensures the convergence to the target distribution if it converges, without any exception.\n",
    "* Can be applied to discrete parameter space (divergent-free)."
   ]
  },
  {
   "cell_type": "markdown",
   "metadata": {
    "heading_collapsed": true,
    "hidden": true,
    "slideshow": {
     "slide_type": "fragment"
    }
   },
   "source": [
    "#### Cons: efficiency\n",
    "\n",
    "* The convergence of MCMC calls for the ergodicity over the **whole** space. This costs your while life.\n",
    "* Curse of dimensionality.\n",
    "* Accuracy cannot be easily measured."
   ]
  },
  {
   "cell_type": "markdown",
   "metadata": {
    "hidden": true
   },
   "source": [
    "Non-efficiency happens frequently in high-dimensional space. However, in low-dimensional space, the curse stands still."
   ]
  },
  {
   "cell_type": "code",
   "execution_count": 167,
   "metadata": {
    "hidden": true,
    "slideshow": {
     "slide_type": "subslide"
    }
   },
   "outputs": [
    {
     "data": {
      "image/png": "[encoded data removed]",
      "text/plain": [
       "<matplotlib.figure.Figure at 0x7f5763634ac8>"
      ]
     },
     "metadata": {},
     "output_type": "display_data"
    }
   ],
   "source": [
    "from scipy.stats import norm\n",
    "from scipy.misc import logsumexp\n",
    "def plot_gaussian_mixture(weights, locations, scales):\n",
    "    def log_p(x):\n",
    "        return logsumexp([np.log(w) + norm.logpdf(x, l, s)\n",
    "                          for w, l, s in zip(weights, locations, scales)])\n",
    "    axes = plt.figure().add_subplot(111)\n",
    "    xs = np.linspace(locations[0] - 3*scales[0],\n",
    "                     locations[-1] + 3*scales[-1],\n",
    "                     100)\n",
    "    axes.plot(xs, [np.exp(log_p(_)) for _ in xs])\n",
    "    axes.grid()\n",
    "    return log_p\n",
    "log_p = plot_gaussian_mixture(\n",
    "    weights=[0.3, 0.7], locations=[-4, 4], scales=[1, 1])"
   ]
  },
  {
   "cell_type": "code",
   "execution_count": 168,
   "metadata": {
    "hidden": true,
    "slideshow": {
     "slide_type": "fragment"
    }
   },
   "outputs": [],
   "source": [
    "def test_mcmc(n_chains=1):\n",
    "    inits = [np.random.random() for _ in range(n_chains)]\n",
    "    mcmc = Metropolis(log_p, inits)\n",
    "    n_samples = 1000\n",
    "    for _ in range(n_samples):\n",
    "        mcmc.sample()\n",
    "    n_burnins = 300\n",
    "    # shape: `[n_chains, n_samples-n_burnins]`\n",
    "    samples = np.transpose(mcmc.samples)[:,n_burnins:]\n",
    "    for chain in samples:\n",
    "        plt.hist(chain, bins=50, normed=True)\n",
    "    # As comparison\n",
    "    xs = np.linspace(-7, 7, 100)\n",
    "    plt.plot(xs, [np.exp(log_p(_)) for _ in xs])\n",
    "    plt.show()"
   ]
  },
  {
   "cell_type": "markdown",
   "metadata": {
    "hidden": true,
    "slideshow": {
     "slide_type": "subslide"
    }
   },
   "source": [
    "One chain is not essential:"
   ]
  },
  {
   "cell_type": "code",
   "execution_count": 161,
   "metadata": {
    "hidden": true,
    "slideshow": {
     "slide_type": "fragment"
    }
   },
   "outputs": [
    {
     "data": {
      "image/png": "[encoded data removed]",
      "text/plain": [
       "<matplotlib.figure.Figure at 0x7f5762671080>"
      ]
     },
     "metadata": {},
     "output_type": "display_data"
    }
   ],
   "source": [
    "test_mcmc()"
   ]
  },
  {
   "cell_type": "markdown",
   "metadata": {
    "hidden": true,
    "slideshow": {
     "slide_type": "subslide"
    }
   },
   "source": [
    "More chains, however, still won't work:"
   ]
  },
  {
   "cell_type": "code",
   "execution_count": 163,
   "metadata": {
    "hidden": true,
    "slideshow": {
     "slide_type": "fragment"
    }
   },
   "outputs": [
    {
     "data": {
      "image/png": "[encoded data removed]",
      "text/plain": [
       "<matplotlib.figure.Figure at 0x7f57631e96a0>"
      ]
     },
     "metadata": {},
     "output_type": "display_data"
    }
   ],
   "source": [
    "test_mcmc(n_chains=2)"
   ]
  },
  {
   "cell_type": "markdown",
   "metadata": {
    "hidden": true,
    "slideshow": {
     "slide_type": "subslide"
    }
   },
   "source": [
    "* Even for this simple **one-dimensional** distribution, MCMC can be non-convergent!"
   ]
  },
  {
   "cell_type": "markdown",
   "metadata": {
    "hidden": true,
    "slideshow": {
     "slide_type": "fragment"
    }
   },
   "source": [
    "The reason:\n",
    "  * The samples in the two distinct region cannot communicate with each other."
   ]
  },
  {
   "cell_type": "markdown",
   "metadata": {
    "heading_collapsed": true,
    "hidden": true,
    "slideshow": {
     "slide_type": "slide"
    }
   },
   "source": [
    "## The modern: VI"
   ]
  },
  {
   "cell_type": "markdown",
   "metadata": {
    "heading_collapsed": true,
    "hidden": true
   },
   "source": [
    "### What is VI"
   ]
  },
  {
   "cell_type": "markdown",
   "metadata": {
    "hidden": true
   },
   "source": [
    "Define K-L divergence:\n",
    "\\begin{equation}\n",
    "  \\textrm{KL}( q \\| p )\n",
    "  = \\mathbb{E}_{\\theta \\sim q} \\left[ \\ln q(\\theta) - \\ln p(\\theta) \\right]\n",
    "\\end{equation}\n",
    "\n",
    "If $q \\to q(\\theta; z)$, then define the loss-function as\n",
    "\\begin{align}\n",
    "  \\mathcal{L}(z)\n",
    "  & = \\mathbb{E}_{\\theta \\sim q} \\left[\n",
    "    \\ln q(\\theta; z) - \\ln p(\\theta \\mid D, H)\n",
    "  \\right] \\\\\n",
    "  & = \\mathbb{E}_{\\theta \\sim q} \\left[\n",
    "    \\ln q(\\theta; z) - \\ln p(D \\mid \\theta, H) - \\ln p(\\theta, H)\n",
    "  \\right] + \\ln p(D, H)\n",
    "\\end{align}"
   ]
  },
  {
   "cell_type": "code",
   "execution_count": 172,
   "metadata": {
    "hidden": true
   },
   "outputs": [],
   "source": [
    "from tqdm import tqdm\n",
    "from nn4post import Inferencer\n",
    "from nn4post.utils import get_param_shape, get_param_space_dim\n",
    "from nn4post.utils.tf_trainer import SimpleTrainer\n",
    "from uba.utils.math import softplus, softmax\n",
    "\n",
    "def vi(n_c, n_dims, log_p, n_iters):\n",
    "  inferencer = Inferencer(n_c, n_dims, log_p)\n",
    "  with tf.name_scope('variables'):\n",
    "    a = tf.Variable(\n",
    "        np.zeros([n_c]),\n",
    "        dtype='float32',\n",
    "        name='a')\n",
    "    mu = tf.Variable(\n",
    "        np.random.normal(size=[n_c, n_dims]),\n",
    "        dtype='float32',\n",
    "        name='mu')\n",
    "    zeta = tf.Variable(\n",
    "        np.zeros([n_c, n_dims]),\n",
    "        dtype='float32',\n",
    "        name='zeta')\n",
    "  var = {'a': a, 'mu': mu, 'zeta': zeta}\n",
    "  loss, gradients = inferencer.make_loss_and_gradients(**var)\n",
    "  optimizer = tf.train.AdamOptimizer(0.01)\n",
    "  train_op = optimizer.apply_gradients(gradients)\n",
    "  with tf.Session() as sess:\n",
    "    sess.run(tf.global_variables_initializer())\n",
    "    for step in tqdm(range(n_iters)):\n",
    "      sess.run(train_op)\n",
    "    return sess.run([a, mu, zeta])\n",
    "  \n",
    "def get_samples(a, mu, zeta, n_samples):\n",
    "    samples = []\n",
    "    weights = softmax(a)\n",
    "    for _ in range(n_samples):\n",
    "        i = np.random.choice(a.shape[0], p=weights)\n",
    "        sample = (mu[i,:] + softplus(zeta[i,:]) \n",
    "                  * np.random.normal(size=mu.shape[1]))\n",
    "        samples.append(sample)\n",
    "    return np.array(samples)"
   ]
  },
  {
   "cell_type": "code",
   "execution_count": 174,
   "metadata": {
    "hidden": true
   },
   "outputs": [],
   "source": [
    "def test_vi(n_c=3, n_iters=500, n_samples=1000):\n",
    "    tf.reset_default_graph()\n",
    "    # Get the `log_p` argument for `vi()`\n",
    "    normal_dists = [tfd.Normal(-4, 1), tfd.Normal(4, 1)]\n",
    "    cat_dist = tfd.Categorical(probs=[0.3, 0.7])\n",
    "    dist = tfd.Mixture(cat_dist, normal_dists)\n",
    "    # Run VI and then sample\n",
    "    n_dims = 1\n",
    "    a, mu, zeta = vi(n_c, n_dims, dist.log_prob, n_iters)\n",
    "    samples = get_samples(a, mu, zeta, n_samples)\n",
    "    plt.hist(samples[:,0], bins=50, normed=True)\n",
    "    # As comparison\n",
    "    xs = np.linspace(-7, 7, 100)\n",
    "    plt.plot(xs, [np.exp(log_p(_)) for _ in xs])\n",
    "    plt.show()"
   ]
  },
  {
   "cell_type": "code",
   "execution_count": 175,
   "metadata": {
    "hidden": true,
    "scrolled": true
   },
   "outputs": [
    {
     "name": "stderr",
     "output_type": "stream",
     "text": [
      "100%|██████████| 500/500 [05:10<00:00,  1.61it/s]\n"
     ]
    },
    {
     "data": {
      "image/png": "[encoded data removed]",
      "text/plain": [
       "<matplotlib.figure.Figure at 0x7f575c7d1cc0>"
      ]
     },
     "metadata": {},
     "output_type": "display_data"
    }
   ],
   "source": [
    "test_vi()"
   ]
  },
  {
   "cell_type": "markdown",
   "metadata": {
    "hidden": true
   },
   "source": [
    "Splendid, as it should be."
   ]
  },
  {
   "cell_type": "markdown",
   "metadata": {
    "heading_collapsed": true,
    "hidden": true
   },
   "source": [
    "### Pros and cons"
   ]
  },
  {
   "cell_type": "markdown",
   "metadata": {
    "heading_collapsed": true,
    "hidden": true
   },
   "source": [
    "#### Pros: efficiency\n",
    "\n",
    "* Escapes the curse of dimensionality.\n",
    "* Fast convergence. You can gain the result in minutes.\n",
    "* The accuracy can be easily measured."
   ]
  },
  {
   "cell_type": "markdown",
   "metadata": {
    "heading_collapsed": true,
    "hidden": true
   },
   "source": [
    "##### Escapes the curse of dimensionality"
   ]
  },
  {
   "cell_type": "code",
   "execution_count": 226,
   "metadata": {
    "hidden": true
   },
   "outputs": [],
   "source": [
    "def test_vi_high_dim(n_dims, n_c=3, n_iters=500,\n",
    "                     n_samples=1000, show_axis=0):\n",
    "    \"\"\"Test on multivariate normal distribution with a\n",
    "    diagonal covariance.\"\"\"\n",
    "    tf.reset_default_graph()\n",
    "    # Get the `log_p` argument for `vi()`\n",
    "    dist = tfd.MultivariateNormalDiag(\n",
    "        tf.zeros([n_dims]), tf.ones([n_dims]))\n",
    "    # Run VI and then sample\n",
    "    a, mu, zeta = vi(n_c, n_dims, dist.log_prob, n_iters)\n",
    "    samples = get_samples(a, mu, zeta, n_samples)\n",
    "    plt.hist(samples[:,show_axis], bins=50, normed=True)\n",
    "    # As comparison\n",
    "    xs = np.linspace(-3, 3, 100)\n",
    "    plt.plot(xs, [sp.stats.norm.pdf(_) for _ in xs])\n",
    "    plt.show()"
   ]
  },
  {
   "cell_type": "code",
   "execution_count": 227,
   "metadata": {
    "hidden": true
   },
   "outputs": [
    {
     "name": "stderr",
     "output_type": "stream",
     "text": [
      "100%|██████████| 500/500 [04:57<00:00,  1.68it/s]\n"
     ]
    },
    {
     "data": {
      "image/png": "[encoded data removed]",
      "text/plain": [
       "<matplotlib.figure.Figure at 0x7f575234fa58>"
      ]
     },
     "metadata": {},
     "output_type": "display_data"
    }
   ],
   "source": [
    "test_vi_high_dim(n_dims=10000)"
   ]
  },
  {
   "cell_type": "markdown",
   "metadata": {
    "hidden": true
   },
   "source": [
    "(To be compared with the following SVGD.)"
   ]
  },
  {
   "cell_type": "markdown",
   "metadata": {
    "heading_collapsed": true,
    "hidden": true
   },
   "source": [
    "#### cons: accuracy\n",
    "\n",
    "* Needs expert experience.\n",
    "* Accuracy is not promised (but can be measured).\n",
    "* Can only be applied to continuous parameter space."
   ]
  },
  {
   "cell_type": "markdown",
   "metadata": {
    "heading_collapsed": true,
    "hidden": true
   },
   "source": [
    "##### Accuracy is not promised"
   ]
  },
  {
   "cell_type": "code",
   "execution_count": 220,
   "metadata": {
    "hidden": true
   },
   "outputs": [],
   "source": [
    "def test_vi_complex(complex_log_p_tf, complex_log_p_np,\n",
    "                    n_c=5, n_iters=500, n_samples=1000):\n",
    "    \"\"\"One-dimensional.\"\"\"\n",
    "    # Run VI and then sample\n",
    "    n_dims = 1\n",
    "    a, mu, zeta = vi(n_c, n_dims, complex_log_p_tf, n_iters)\n",
    "    samples = get_samples(a, mu, zeta, n_samples)\n",
    "    plt.hist(samples[:,0], bins=50, normed=True)\n",
    "    # As comparison\n",
    "    xs = np.linspace(np.min(samples), np.max(samples), 100)\n",
    "    plt.plot(xs, [np.exp(complex_log_p_np(_)) for _ in xs])\n",
    "    plt.show()"
   ]
  },
  {
   "cell_type": "code",
   "execution_count": 221,
   "metadata": {
    "hidden": true
   },
   "outputs": [
    {
     "name": "stderr",
     "output_type": "stream",
     "text": [
      "100%|██████████| 500/500 [10:12<00:00,  1.22s/it]\n"
     ]
    },
    {
     "data": {
      "image/png": "[encoded data removed]",
      "text/plain": [
       "<matplotlib.figure.Figure at 0x7f575a686898>"
      ]
     },
     "metadata": {},
     "output_type": "display_data"
    }
   ],
   "source": [
    "tf.reset_default_graph()\n",
    "def complex_log_p_tf(x):\n",
    "  return tfd.Gamma(1.2, 1.0).log_prob(tf.exp(x))\n",
    "def complex_log_p_np(x):\n",
    "  return sp.stats.gamma.logpdf(np.exp(x), a=1.2)\n",
    "test_vi_complex(complex_log_p_tf, complex_log_p_np)"
   ]
  },
  {
   "cell_type": "markdown",
   "metadata": {
    "heading_collapsed": true,
    "hidden": true
   },
   "source": [
    "## SVGD and Neural Network Sampler"
   ]
  },
  {
   "cell_type": "markdown",
   "metadata": {
    "heading_collapsed": true,
    "hidden": true
   },
   "source": [
    "### What is SVGD"
   ]
  },
  {
   "cell_type": "markdown",
   "metadata": {
    "hidden": true
   },
   "source": [
    "Gradient boosting to the K-L divergence:\n",
    "\n",
    "Let $T(x) := x + \\epsilon \\phi(x)$ for some $\\phi(x)$,\n",
    "\\begin{equation}\n",
    "  \\textrm{KL}( q_{[T]} \\| p )\n",
    "  = \\textrm{KL}( q \\| p )\n",
    "  - \\epsilon \\langle \\nabla \\textrm{KL}, \\phi \\rangle_{\\mathcal{H}^N}\n",
    "  + \\mathcal{O}(\\epsilon^2)\n",
    "\\end{equation}\n",
    "where\n",
    "\\begin{equation}\n",
    "  \\nabla \\textrm{KL}(y)\n",
    "  := \\mathbb{E}_{x \\sim q} \\left[\n",
    "    \\left( \\nabla \\ln p(x) - \\nabla \\ln k(x, y) \\right) k(x, y)\n",
    "  \\right].\n",
    "\\end{equation}\n",
    "Thus the $\\nabla \\textrm{KL}(y)$ is the fastest \"direction\" that decreases the $\\textrm{KL}(q \\| p)$."
   ]
  },
  {
   "cell_type": "code",
   "execution_count": 69,
   "metadata": {
    "code_folding": [
     0
    ],
    "hidden": true
   },
   "outputs": [],
   "source": [
    "def get_median(v):\n",
    "  \"\"\"Auxillary function.\"\"\"\n",
    "  v = tf.reshape(v, [-1])\n",
    "  m = v.shape[0].value//2\n",
    "  return tf.nn.top_k(v, m).values[m-1]\n",
    "\n",
    "class SVGD(object):\n",
    "\n",
    "  @staticmethod\n",
    "  def initialize_samples(n_samples, n_dims):\n",
    "    samples_shape = [n_samples, n_dims]\n",
    "    initializer = tf.initializers.random_uniform(minval=-1, maxval=1)\n",
    "    samples = tf.get_variable(\n",
    "        'samples', shape=samples_shape,\n",
    "        dtype='float32', initializer=initializer)\n",
    "    return samples\n",
    "  \n",
    "  @staticmethod\n",
    "  def rbf_kernel(xs, ys, name=None):\n",
    "    \"\"\"Returns :math:`k(x_i, y_j)` and :math:`\\nabla k(x_i, y_j)`,\n",
    "    for :math:`\\forall i, j = 1, \\ldots m` for some :math:`m`, and\n",
    "    :math:`x_i, y_j \\in \\mathbb{R}^n`, where the :math:`k(\\cdot, \\cdot)`\n",
    "    is the RBF kernel.\n",
    "  \n",
    "    Args:\n",
    "      xs: Tensor of the shape `[m, n]` for some `m` and `n`.\n",
    "      ys: Tensor of the same shape as `xs`.\n",
    "    Returns:\n",
    "      Two tensors. The first is of shape `[m, m]`, the second is of\n",
    "      `[n, m, m]`.\n",
    "    \"\"\"\n",
    "    with tf.name_scope(name, 'RBFKernel', [xs, ys]):\n",
    "      with tf.name_scope('Pairwise'):\n",
    "        m, n = xs.get_shape().as_list()\n",
    "        # :math:`x_i^{\\alpha} - y_j^{\\alpha}`, shape `[m, m, n]`\n",
    "        deltas = tf.subtract(\n",
    "            tf.expand_dims(xs, axis=1),\n",
    "            tf.expand_dims(ys, axis=0),\n",
    "            name='Deltas')\n",
    "        # :math: \\sum_{\\alpha} (x_i^{\\alpha} - y_j^{\\alpha})^2,\n",
    "        # shape `[m, m]`\n",
    "        square_distances = tf.reduce_sum(\n",
    "            tf.square(deltas), axis=-1,\n",
    "            name='SquareDistances')\n",
    "        h = tf.truediv(\n",
    "            get_median(square_distances),\n",
    "            tf.log(float(m)),\n",
    "            name='h')\n",
    "        # :math:`k(x_i, y_j)`, shape `[m, m]`\n",
    "        kxy = tf.exp(-1 / h * square_distances, name='Pairwise')\n",
    "      with tf.name_scope('PairwiseGradients'):\n",
    "        # :math:`\\nabla_{\\alpha} k(x_i, y_j)`, shape `[m, m, n]\n",
    "        grad_kxy_by_x = tf.multiply(\n",
    "            -1 / h * deltas,\n",
    "            tf.expand_dims(kxy, axis=-1))\n",
    "      return kxy, grad_kxy_by_x\n",
    "\n",
    "  @staticmethod\n",
    "  def linear_kernel(xs, ys, name=None):\n",
    "    with tf.name_scope(name, 'LinearKernel', [xs, ys]):\n",
    "      with tf.name_scope('Pairwise'):\n",
    "        m, n = xs.get_shape().as_list()\n",
    "        # :math:`x_i^{\\alpha} x_j^{\\alpha}`, shape `[m, m, n]`\n",
    "        pairwise = tf.multiply(\n",
    "            tf.expand_dims(xs, axis=1),\n",
    "            tf.expand_dims(ys, axis=0))\n",
    "      with tf.name_scope('Kernel'):\n",
    "        # :math:`\\sum_{\\alpha} x_i^{\\alpha} x_j^{\\alpha}`,\n",
    "        # shape `[m, m]`\n",
    "        kxy = tf.reduce_sum(pairwise, axis=-1)\n",
    "      with tf.name_scope('Gradient'):\n",
    "        # :math:`x_j^{\\alpha}`， # shape `[m, m, n]`\n",
    "        grad_kxy_by_x = tf.stack([ys]*m, axis=0)\n",
    "      return kxy, grad_kxy_by_x\n",
    "\n",
    "  @staticmethod\n",
    "  def get_phi_stars(kernel, samples, log_p, name='PhiStars'):\n",
    "    \"\"\":math:`phi_{\\star}(x_j) \\forall x_j \\in \\mathbb{R}^n`\n",
    "    with :math:`j = 1, \\ldots m`.\n",
    "  \n",
    "    Args:\n",
    "      kernel: Callable that maps pair of tensors of the shape\n",
    "        `[m, n]` to pair of tensors of the shape `[m, m]` and\n",
    "        `[m, m, n]`, as the :math:`k(x_i, x_j)` and\n",
    "        :math:`\\nabla_{\\alpha} k(x_i, x_j)`.\n",
    "      samples: Tensor of the shape `[m, n]`.\n",
    "      log_p: Callable that maps tensor of the shape `[n]` to scalar.\n",
    "    \n",
    "    Returns:\n",
    "      Tensor of the shape `[m, n]`.\n",
    "    \"\"\"\n",
    "    m, n = samples.get_shape().as_list()\n",
    "    # :math:`\\ln p (x_i) \\forall x_i`, shape `[m]`\n",
    "    log_ps = tf.map_fn(log_p, samples, name='LogProbabilities')\n",
    "    # :math:`\\nabla \\ln p (x_i) \\forall x_i`, shape `[m, n]`\n",
    "    grad_log_ps = tf.gradients(log_ps, [samples])[0]\n",
    "    # :math:`k(x_i, x_j)` and `\\nabla k(x_i, x_j)`,\n",
    "    # shape `[m, m]` and `[m, m, n]`, respectively\n",
    "    ks, grad_ks = kernel(samples, samples)\n",
    "    with tf.name_scope(name):\n",
    "      # Broadcasting for gaining the `phi_stars`\n",
    "      ks = tf.expand_dims(ks, axis=-1)  # [m, m, 1]\n",
    "      grad_log_ps = tf.expand_dims(grad_log_ps, axis=1)  # [m, 1, n]\n",
    "      # shape \n",
    "      integrand = ks * grad_log_ps + grad_ks  # [m, m, n]\n",
    "      # :math:`phi_{\\star}(x_j) \\forall x_j`, shape `[m, n]`\n",
    "      phi_stars = tf.reduce_mean(integrand, axis=0)\n",
    "      return phi_stars\n",
    "  \n",
    "  def main(self, n_samples, n_dims, log_p, n_iters,\n",
    "           kernel=None, optimizer=None, skip_step=100,\n",
    "           show_axis=0):\n",
    "    xs = self.initialize_samples(n_samples, n_dims)\n",
    "    if kernel is None:\n",
    "      kernel = self.rbf_kernel\n",
    "    phi_stars = self.get_phi_stars(kernel, xs, log_p)\n",
    "    mean_square_grad = tf.reduce_mean(tf.square(phi_stars))\n",
    "\n",
    "    if optimizer is None:\n",
    "      optimizer = tf.train.AdamOptimizer(0.01, beta1=0, beta2=0.9)\n",
    "    train_op = optimizer.apply_gradients([(-phi_stars, xs)])\n",
    "\n",
    "    with tf.Session() as sess:\n",
    "      sess.run(tf.global_variables_initializer())\n",
    "\n",
    "      for step in range(n_iters):\n",
    "        _, mean_square_grad_val = sess.run([train_op, mean_square_grad])\n",
    "        if step % skip_step == 0:\n",
    "          print('After step {}'.format(step))\n",
    "          print('Mean-square-gradient {}'.format(mean_square_grad_val))\n",
    "          xs_val = sess.run(xs)\n",
    "          plt.hist(xs_val[:,show_axis], bins=50, normed=True)\n",
    "          plt.show()\n",
    "\n",
    "      print('Finally')\n",
    "      xs_val = sess.run(xs)\n",
    "      plt.hist(xs_val[:,show_axis], bins=50, normed=True)\n",
    "      plt.show()"
   ]
  },
  {
   "cell_type": "markdown",
   "metadata": {
    "hidden": true
   },
   "source": [
    "Test on Gaussian mixture distribution:"
   ]
  },
  {
   "cell_type": "code",
   "execution_count": 76,
   "metadata": {
    "code_folding": [],
    "collapsed": true,
    "hidden": true
   },
   "outputs": [
    {
     "name": "stdout",
     "output_type": "stream",
     "text": [
      "After step 0\n",
      "Mean-square-gradient 0.06002242490649223\n"
     ]
    },
    {
     "data": {
      "image/png": "[encoded data removed]",
      "text/plain": [
       "<matplotlib.figure.Figure at 0x7f57633e9b38>"
      ]
     },
     "metadata": {},
     "output_type": "display_data"
    },
    {
     "name": "stdout",
     "output_type": "stream",
     "text": [
      "After step 100\n",
      "Mean-square-gradient 0.03231942653656006\n"
     ]
    },
    {
     "data": {
      "image/png": "[encoded data removed]",
      "text/plain": [
       "<matplotlib.figure.Figure at 0x7f5765577080>"
      ]
     },
     "metadata": {},
     "output_type": "display_data"
    },
    {
     "name": "stdout",
     "output_type": "stream",
     "text": [
      "After step 200\n",
      "Mean-square-gradient 0.00038037949707359076\n"
     ]
    },
    {
     "data": {
      "image/png": "[encoded data removed]",
      "text/plain": [
       "<matplotlib.figure.Figure at 0x7f5762687080>"
      ]
     },
     "metadata": {},
     "output_type": "display_data"
    },
    {
     "name": "stdout",
     "output_type": "stream",
     "text": [
      "After step 300\n",
      "Mean-square-gradient 4.440446900844108e-06\n"
     ]
    },
    {
     "data": {
      "image/png": "[encoded data removed]",
      "text/plain": [
       "<matplotlib.figure.Figure at 0x7f576380d9e8>"
      ]
     },
     "metadata": {},
     "output_type": "display_data"
    },
    {
     "name": "stdout",
     "output_type": "stream",
     "text": [
      "After step 400\n",
      "Mean-square-gradient 5.433600563264918e-06\n"
     ]
    },
    {
     "data": {
      "image/png": "[encoded data removed]",
      "text/plain": [
       "<matplotlib.figure.Figure at 0x7f5762cec898>"
      ]
     },
     "metadata": {},
     "output_type": "display_data"
    },
    {
     "name": "stdout",
     "output_type": "stream",
     "text": [
      "Finally\n"
     ]
    },
    {
     "data": {
      "image/png": "[encoded data removed]",
      "text/plain": [
       "<matplotlib.figure.Figure at 0x7f576276ea20>"
      ]
     },
     "metadata": {},
     "output_type": "display_data"
    },
    {
     "name": "stdout",
     "output_type": "stream",
     "text": [
      "CPU times: user 7min 43s, sys: 47.6 s, total: 8min 30s\n",
      "Wall time: 2min 27s\n"
     ]
    }
   ],
   "source": [
    "%%time\n",
    "\n",
    "tf.reset_default_graph()\n",
    "\n",
    "n_samples = 500\n",
    "n_dims = 1\n",
    "normals = [\n",
    "    tfd.Independent(\n",
    "        tfd.Normal(-2*tf.ones([n_dims]), tf.ones([n_dims]))),\n",
    "    tfd.Independent(\n",
    "        tfd.Normal(2*tf.ones([n_dims]), tf.ones([n_dims]))),\n",
    "]\n",
    "dist = tfd.Mixture(tfd.Categorical([0.3, 0.7]),\n",
    "                   normals)\n",
    "SVGD().main(n_samples, n_dims, dist.log_prob, n_iters=500)"
   ]
  },
  {
   "cell_type": "markdown",
   "metadata": {
    "heading_collapsed": true,
    "hidden": true
   },
   "source": [
    "### Pros and cons"
   ]
  },
  {
   "cell_type": "markdown",
   "metadata": {
    "heading_collapsed": true,
    "hidden": true
   },
   "source": [
    "#### Pros:\n",
    "* Efficiency & accuracy (extremely light and fast)\n",
    "* Can be extended to neural network sampler."
   ]
  },
  {
   "cell_type": "markdown",
   "metadata": {
    "heading_collapsed": true,
    "hidden": true
   },
   "source": [
    "##### Towards the neural network sampler"
   ]
  },
  {
   "cell_type": "code",
   "execution_count": 82,
   "metadata": {
    "hidden": true
   },
   "outputs": [
    {
     "data": {
      "text/html": [
       "<img src=\"https://ai2-s2-public.s3.amazonaws.com/figures/2017-08-08/42a712dbfe07262ba2b479e800008f08ad1c1388/2-Figure1-1.png\"/>"
      ],
      "text/plain": [
       "<IPython.core.display.Image object>"
      ]
     },
     "execution_count": 82,
     "metadata": {},
     "output_type": "execute_result"
    }
   ],
   "source": [
    "Image(url=('https://ai2-s2-public.s3.amazonaws.com/figures/2017-08-08/'\n",
    "           '42a712dbfe07262ba2b479e800008f08ad1c1388/2-Figure1-1.png'))"
   ]
  },
  {
   "cell_type": "markdown",
   "metadata": {
    "hidden": true
   },
   "source": [
    "And possibility a data-compressor."
   ]
  },
  {
   "cell_type": "markdown",
   "metadata": {
    "heading_collapsed": true,
    "hidden": true
   },
   "source": [
    "#### Cons: \n",
    "* Curse of dimensionality.\n",
    "* Unstable for different kernels.\n",
    "* Accuracy cannot be easily measured.\n",
    "* Can only be applied to continuous parameter space."
   ]
  },
  {
   "cell_type": "markdown",
   "metadata": {
    "heading_collapsed": true,
    "hidden": true
   },
   "source": [
    "##### Curse of dimensionality"
   ]
  },
  {
   "cell_type": "markdown",
   "metadata": {
    "hidden": true
   },
   "source": [
    "As the `n_dims` increases, the trained distribution comes to be nearly MAP (thus goes back to the traditional machine learning):"
   ]
  },
  {
   "cell_type": "code",
   "execution_count": 78,
   "metadata": {
    "hidden": true
   },
   "outputs": [
    {
     "name": "stdout",
     "output_type": "stream",
     "text": [
      "After step 0\n",
      "Mean-square-gradient 1.2573191270348616e-06\n"
     ]
    },
    {
     "data": {
      "image/png": "[encoded data removed]",
      "text/plain": [
       "<matplotlib.figure.Figure at 0x7f576599ab70>"
      ]
     },
     "metadata": {},
     "output_type": "display_data"
    },
    {
     "name": "stdout",
     "output_type": "stream",
     "text": [
      "After step 100\n",
      "Mean-square-gradient 1.4931912373228329e-09\n"
     ]
    },
    {
     "data": {
      "image/png": "[encoded data removed]",
      "text/plain": [
       "<matplotlib.figure.Figure at 0x7f57634ddcc0>"
      ]
     },
     "metadata": {},
     "output_type": "display_data"
    },
    {
     "name": "stdout",
     "output_type": "stream",
     "text": [
      "After step 200\n",
      "Mean-square-gradient 2.2550061817838696e-09\n"
     ]
    },
    {
     "data": {
      "image/png": "[encoded data removed]",
      "text/plain": [
       "<matplotlib.figure.Figure at 0x7f5763f25208>"
      ]
     },
     "metadata": {},
     "output_type": "display_data"
    },
    {
     "name": "stdout",
     "output_type": "stream",
     "text": [
      "After step 300\n",
      "Mean-square-gradient 2.3150641403901773e-09\n"
     ]
    },
    {
     "data": {
      "image/png": "[encoded data removed]",
      "text/plain": [
       "<matplotlib.figure.Figure at 0x7f57628ecc88>"
      ]
     },
     "metadata": {},
     "output_type": "display_data"
    },
    {
     "name": "stdout",
     "output_type": "stream",
     "text": [
      "After step 400\n",
      "Mean-square-gradient 2.358443662586751e-09\n"
     ]
    },
    {
     "data": {
      "image/png": "[encoded data removed]",
      "text/plain": [
       "<matplotlib.figure.Figure at 0x7f57639c1908>"
      ]
     },
     "metadata": {},
     "output_type": "display_data"
    },
    {
     "name": "stdout",
     "output_type": "stream",
     "text": [
      "Finally\n"
     ]
    },
    {
     "data": {
      "image/png": "[encoded data removed]",
      "text/plain": [
       "<matplotlib.figure.Figure at 0x7f5762da8860>"
      ]
     },
     "metadata": {},
     "output_type": "display_data"
    },
    {
     "name": "stdout",
     "output_type": "stream",
     "text": [
      "CPU times: user 4min 44s, sys: 24.6 s, total: 5min 9s\n",
      "Wall time: 1min 14s\n"
     ]
    }
   ],
   "source": [
    "%%time\n",
    "\n",
    "tf.reset_default_graph()\n",
    "\n",
    "n_samples = 500\n",
    "n_dims = 100\n",
    "dist = tfd.Independent(\n",
    "  tfd.Normal(tf.zeros([n_dims]), tf.ones([n_dims])))\n",
    "SVGD().main(n_samples, n_dims, dist.log_prob, n_iters=500, show_axis=0)"
   ]
  },
  {
   "cell_type": "markdown",
   "metadata": {
    "hidden": true
   },
   "source": [
    "Notice that the range of domain is about $(-0.4, 0.4)$, rather than $(-1, 1)$. Thus it comes to be nearly MAP. Thus suffers the curse of dimensionality. (Compare with that in VI in the previous.)"
   ]
  },
  {
   "cell_type": "markdown",
   "metadata": {
    "hidden": true
   },
   "source": [
    "Why the curse?\n",
    "\n",
    "In high-dimensional, the distances between samples are enlarged, so that a sample cannot perceive the other samples. So it cannot properly estimate the global performance. Instead, to gain the performance (its own performance), it moves to the MAP point."
   ]
  },
  {
   "cell_type": "markdown",
   "metadata": {
    "hidden": true
   },
   "source": [
    "To solve this problem, abstraction is called for, that is, projecting the samples to a much smaller, but much compacter, manifold. In this manifold, the samples are related (like being related by latent variables). Global performance can thus be estimated and weighted between different samples, even superficially they cannot perceive each other, providing a meaningful variation of the latent parameters on the manifold."
   ]
  },
  {
   "cell_type": "markdown",
   "metadata": {
    "heading_collapsed": true,
    "hidden": true
   },
   "source": [
    "##### Unstable for different kernels."
   ]
  },
  {
   "cell_type": "markdown",
   "metadata": {
    "hidden": true
   },
   "source": [
    "Some kernel even makes all things wrong. E.g. linear kernel:"
   ]
  },
  {
   "cell_type": "code",
   "execution_count": 79,
   "metadata": {
    "code_folding": [],
    "collapsed": true,
    "hidden": true
   },
   "outputs": [
    {
     "name": "stdout",
     "output_type": "stream",
     "text": [
      "After step 0\n",
      "Mean-square-gradient 0.14785335958003998\n"
     ]
    },
    {
     "data": {
      "image/png": "[encoded data removed]",
      "text/plain": [
       "<matplotlib.figure.Figure at 0x7f5764945198>"
      ]
     },
     "metadata": {},
     "output_type": "display_data"
    },
    {
     "name": "stdout",
     "output_type": "stream",
     "text": [
      "After step 100\n",
      "Mean-square-gradient 6.089311387481693e-16\n"
     ]
    },
    {
     "data": {
      "image/png": "[encoded data removed]",
      "text/plain": [
       "<matplotlib.figure.Figure at 0x7f5762966748>"
      ]
     },
     "metadata": {},
     "output_type": "display_data"
    },
    {
     "name": "stdout",
     "output_type": "stream",
     "text": [
      "After step 200\n",
      "Mean-square-gradient 6.397622928489e-05\n"
     ]
    },
    {
     "data": {
      "image/png": "[encoded data removed]",
      "text/plain": [
       "<matplotlib.figure.Figure at 0x7f5762f10630>"
      ]
     },
     "metadata": {},
     "output_type": "display_data"
    },
    {
     "name": "stdout",
     "output_type": "stream",
     "text": [
      "After step 300\n",
      "Mean-square-gradient 9.311195753980428e-05\n"
     ]
    },
    {
     "data": {
      "image/png": "[encoded data removed]",
      "text/plain": [
       "<matplotlib.figure.Figure at 0x7f5762a7a4e0>"
      ]
     },
     "metadata": {},
     "output_type": "display_data"
    },
    {
     "name": "stdout",
     "output_type": "stream",
     "text": [
      "After step 400\n",
      "Mean-square-gradient 9.296229836763814e-05\n"
     ]
    },
    {
     "data": {
      "image/png": "[encoded data removed]",
      "text/plain": [
       "<matplotlib.figure.Figure at 0x7f5762dddd30>"
      ]
     },
     "metadata": {},
     "output_type": "display_data"
    },
    {
     "name": "stdout",
     "output_type": "stream",
     "text": [
      "Finally\n"
     ]
    },
    {
     "data": {
      "image/png": "[encoded data removed]",
      "text/plain": [
       "<matplotlib.figure.Figure at 0x7f57646175c0>"
      ]
     },
     "metadata": {},
     "output_type": "display_data"
    },
    {
     "name": "stdout",
     "output_type": "stream",
     "text": [
      "CPU times: user 4min 32s, sys: 23.5 s, total: 4min 56s\n",
      "Wall time: 1min 3s\n"
     ]
    }
   ],
   "source": [
    "%%time\n",
    "\n",
    "tf.reset_default_graph()\n",
    "\n",
    "n_samples = 500\n",
    "n_dims = 1\n",
    "dist = tfd.Independent(\n",
    "  tfd.Normal(tf.zeros([n_dims]), tf.ones([n_dims])))\n",
    "SVGD().test(n_samples, n_dims, dist, n_iters=500,\n",
    "            kernel=SVGD().linear_kernel)"
   ]
  }
 ],
 "metadata": {
  "kernelspec": {
   "display_name": "Python 3",
   "language": "python",
   "name": "python3"
  },
  "language_info": {
   "codemirror_mode": {
    "name": "ipython",
    "version": 3
   },
   "file_extension": ".py",
   "mimetype": "text/x-python",
   "name": "python",
   "nbconvert_exporter": "python",
   "pygments_lexer": "ipython3",
   "version": "3.6.1"
  },
  "latex_envs": {
   "LaTeX_envs_menu_present": true,
   "autoclose": false,
   "autocomplete": true,
   "bibliofile": "biblio.bib",
   "cite_by": "apalike",
   "current_citInitial": 1,
   "eqLabelWithNumbers": true,
   "eqNumInitial": 1,
   "hotkeys": {
    "equation": "Ctrl-E",
    "itemize": "Ctrl-I"
   },
   "labels_anchors": false,
   "latex_user_defs": false,
   "report_style_numbering": false,
   "user_envs_cfg": false
  },
  "toc": {
   "base_numbering": 1,
   "nav_menu": {},
   "number_sections": true,
   "sideBar": true,
   "skip_h1_title": false,
   "title_cell": "Table of Contents",
   "title_sidebar": "Contents",
   "toc_cell": false,
   "toc_position": {
    "height": "1505px",
    "left": "225px",
    "top": "95.0909px",
    "width": "196px"
   },
   "toc_section_display": true,
   "toc_window_display": false
  }
 },
 "nbformat": 4,
 "nbformat_minor": 2
}

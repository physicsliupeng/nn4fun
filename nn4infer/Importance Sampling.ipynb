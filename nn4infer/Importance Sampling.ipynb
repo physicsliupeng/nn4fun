{
 "cells": [
  {
   "cell_type": "markdown",
   "metadata": {},
   "source": [
    "Neural network for importance sampling supplemented variational inference."
   ]
  },
  {
   "cell_type": "markdown",
   "metadata": {
    "heading_collapsed": true
   },
   "source": [
    "## Theory"
   ]
  },
  {
   "cell_type": "markdown",
   "metadata": {
    "hidden": true
   },
   "source": [
    "Let $\\theta \\in \\mathbb{R}^{N_d}$ the parameters, and $p(\\theta)$ the PDF of the posterior over the parameter-space. Let $q(\\theta; z)$ the inference distribution, with parameter $z$ to be trained. Let\n",
    "\\begin{equation}\n",
    "  \\hat{q}(\\theta; z, w) := \\omega (\\theta; w) q(\\theta, z),\n",
    "\\end{equation}\n",
    "where $\\omega (\\theta; w)$, mapping to $\\mathbb{R}$, is the weights of the importance sampling, with parameter $w$ to be trained.\n",
    "\n",
    "The loss-function is\n",
    "\\begin{align}\n",
    "  \\mathcal{L} (z, w)\n",
    "    & := \\textrm{KL}(\\hat{q} \\| p) \\\\\n",
    "    & = \\int \\hat{q} (\\theta)\n",
    "          \\left[ \\ln \\hat{q} (\\theta; z, w) - \\ln p (\\theta) \\right]\n",
    "        d \\theta \\\\\n",
    "    & = \\int q(\\theta) \\omega (\\theta; w)\n",
    "          \\left[ \\ln \\omega (\\theta; w) + \\ln q (\\theta; z)\n",
    "                 - \\ln p (\\theta) \\right]\n",
    "        d \\theta \\\\\n",
    "    & = \\mathbb{E}_{\\theta_s \\sim q(z)}\n",
    "          \\left\\{ \\omega (\\theta_s; w)\n",
    "            \\left[ \\ln \\omega (\\theta_s; w) + \\ln q (\\theta_s; z)\n",
    "                   - \\ln p (\\theta_s) \\right] \\right\\},\n",
    "\\end{align}\n",
    "where $s = 1, \\ldots, N_s$. Further, for $\\theta \\in \\{\\theta_1, \\ldots, \\theta_{N_s}\\} \\sim q(z)$, let\n",
    "\\begin{equation}\n",
    "  \\omega(\\theta; w) := \\textrm{softmax} \\left( \\zeta (\\theta; w) \\right) * N_s,\n",
    "\\end{equation}\n",
    "the normalization of $\\hat{q}(\\theta; z, w)$ can always be ensured:\n",
    "\\begin{align}\n",
    "  1 & = \\int \\hat{q}(\\theta; z, w) d\\theta \\\\\n",
    "    & = \\mathbb{E}_{\\theta_s \\sim q(z)} \\left[ \\omega (\\theta; w) \\right] \\\\\n",
    "    & = N_s * \\mathbb{E}_{\\theta_s \\sim q(z)}\n",
    "                \\left[ \\textrm{softmax} \\left( \\zeta (\\theta; w) \\right) \\right] \\\\\n",
    "    & = N_s * \\frac{1}{N_s}\n",
    "        \\sum_s \\textrm{softmax}_s \\left( \\zeta (\\theta; w) \\right) \\\\\n",
    "    & = N_s \\frac{1}{N_s} \\times 1.\n",
    "\\end{align}"
   ]
  },
  {
   "cell_type": "markdown",
   "metadata": {
    "hidden": true
   },
   "source": [
    "This methods extends the representability of pure variational inference by adding a weight-function. This weight-function can be implemented by a neural network by the utility of its universality."
   ]
  },
  {
   "cell_type": "markdown",
   "metadata": {
    "hidden": true
   },
   "source": [
    "We do not prefer a large variance of the weights, thus a penalty on this variance in the loss is called for. Thus\n",
    "\\begin{align}\n",
    "  \\mathcal{L}(z, w)\n",
    "    & \\to \\mathcal{L}(z, w; \\lambda) \\\\\n",
    "    & = \\mathbb{E}_{\\theta_s \\sim q(z)}\n",
    "          \\left\\{ \\omega (\\theta_s; w)\n",
    "            \\left[ \\ln \\omega (\\theta_s; w) + \\ln q (\\theta_s; z)\n",
    "                   - \\ln p (\\theta_s) \\right]\n",
    "            + \\lambda \\omega^2(\\theta_s; w) \\right\\},\n",
    "\\end{align}\n",
    "where $\\lambda$ is a hyper-parameter."
   ]
  },
  {
   "cell_type": "markdown",
   "metadata": {
    "hidden": true
   },
   "source": [
    "The machine will automatically minimizes this loss by tuning the trainable parameters $(z, w)$, and then find a \"harmonic\" way of combining the $\\omega$ and $q$, so as to represent the target $p(\\theta)$."
   ]
  },
  {
   "cell_type": "markdown",
   "metadata": {
    "heading_collapsed": true
   },
   "source": [
    "## Implementation"
   ]
  },
  {
   "cell_type": "code",
   "execution_count": 1,
   "metadata": {
    "hidden": true
   },
   "outputs": [],
   "source": [
    "%matplotlib inline\n",
    "import matplotlib.pyplot as plt\n",
    "import numpy as np\n",
    "import tensorflow as tf\n",
    "import tensorflow.contrib.distributions as tfd\n",
    "from collections import namedtuple\n",
    "from uba.utils.math import softplus"
   ]
  },
  {
   "cell_type": "code",
   "execution_count": 2,
   "metadata": {
    "hidden": true
   },
   "outputs": [],
   "source": [
    "LossInfo = namedtuple('LossInfo',\n",
    "    ('loc, scale, inference_dist, samples, sample_logits,'\n",
    "      'weights, log_weights, log_ps, log_qs, kl_divergence,'\n",
    "      'weight_penalty, loss'))\n",
    "\n",
    "def make_loss(n_dims, log_p, logits, logits_scale=1.0, n_samples=10):\n",
    "  \"\"\"\n",
    "  Args:\n",
    "    n_dims: Positive integer.\n",
    "    log_p: Callable from tensor of the shape `[n_dims]` to scalar.\n",
    "    logits: Callable from tensor of the shape `[n_samples, n_dims]`\n",
    "      to tensor of the shape `[n_samples]`.\n",
    "    logits_scale: Positive float.\n",
    "  Returns:\n",
    "    An instance of `LossInfo`.\n",
    "  \"\"\"\n",
    "  with tf.name_scope('Loss'):\n",
    "    with tf.name_scope('InferenceDistribution'):\n",
    "      loc = tf.get_variable('loc', [n_dims], 'float32')\n",
    "      scale = tf.get_variable('scale', [n_dims], 'float32')\n",
    "      inference_dist = tfd.Independent(\n",
    "          tfd.NormalWithSoftplusScale(loc, scale))\n",
    "    with tf.name_scope('Samples'):\n",
    "      # shape `[n_samples, n_dims]`\n",
    "      samples = inference_dist.sample(n_samples)\n",
    "    with tf.name_scope('Logits'):\n",
    "      # shape: `[n_samples]`\n",
    "      sample_logits = logits(samples)\n",
    "    with tf.name_scope('KLDivergence'):\n",
    "      # shape: `[n_samples]`\n",
    "      weights = tf.nn.softmax(sample_logits) * n_samples\n",
    "      # shape: `[n_samples]`\n",
    "      log_weights = tf.log(weights)\n",
    "      # The batch-supplement may not ensured in `log_p`,\n",
    "      # so we employ `tf.map_fn` for vectorization\n",
    "      # shape: `[n_samples]`\n",
    "      log_ps = tf.map_fn(log_p, samples)\n",
    "      # Notice `tfd.Distribution.log_prob()` is batch-supplemented,\n",
    "      # shape: `[n_samples]`\n",
    "      log_qs = inference_dist.log_prob(samples)\n",
    "      # shape: `[]`\n",
    "      kl_divergence = tf.reduce_mean(\n",
    "        weights * (log_weights + log_qs - log_ps),\n",
    "        axis=0)\n",
    "      # shape: `[]`\n",
    "      weight_penalty = logits_scale \\\n",
    "        * tf.reduce_mean(tf.square(weights - 1), axis=0)\n",
    "      # shape: `[]`\n",
    "      # loss = kl_divergence + weight_penalty\n",
    "      loss = kl_divergence * (1 + weight_penalty)\n",
    "      return LossInfo(loc, scale, inference_dist, samples, sample_logits,\n",
    "                      weights, log_weights, log_ps, log_qs, kl_divergence,\n",
    "                      weight_penalty, loss)"
   ]
  },
  {
   "cell_type": "markdown",
   "metadata": {
    "heading_collapsed": true
   },
   "source": [
    "## Experiments"
   ]
  },
  {
   "cell_type": "markdown",
   "metadata": {
    "heading_collapsed": true,
    "hidden": true
   },
   "source": [
    "### High-dimensional Gaussian distribution"
   ]
  },
  {
   "cell_type": "markdown",
   "metadata": {
    "hidden": true
   },
   "source": [
    "Set up graph"
   ]
  },
  {
   "cell_type": "code",
   "execution_count": 3,
   "metadata": {
    "hidden": true
   },
   "outputs": [],
   "source": [
    "tf.reset_default_graph()"
   ]
  },
  {
   "cell_type": "markdown",
   "metadata": {
    "hidden": true
   },
   "source": [
    "The target is the PDF of distribution\n",
    "$\\mathcal{N} \\left(0, \\textrm{softplus}(10)\\right)$\n",
    "on $\\mathbb{R}^{N_d}$."
   ]
  },
  {
   "cell_type": "code",
   "execution_count": 4,
   "metadata": {
    "hidden": true
   },
   "outputs": [],
   "source": [
    "n_dims = 10000\n",
    "target_dist = tfd.Independent(\n",
    "    tfd.NormalWithSoftplusScale(loc=tf.zeros(n_dims),\n",
    "                                scale=10*tf.ones(n_dims)))"
   ]
  },
  {
   "cell_type": "code",
   "execution_count": 5,
   "metadata": {
    "hidden": true
   },
   "outputs": [],
   "source": [
    "def logits(samples, n_hiddens=5):\n",
    "  \"\"\"The `logits` argument of `make_loss()`.\"\"\"\n",
    "  with tf.name_scope('LogitsNeuralNetwork'):\n",
    "    # shape: `[n_samples, n_hiddens]`\n",
    "    hiddens = tf.layers.dense(samples, n_hiddens,\n",
    "                              activation=tf.nn.leaky_relu)\n",
    "    # shape: `[n_samples, 1]`\n",
    "    outputs = tf.layers.dense(hiddens, 1)\n",
    "    # shape: `[n_samples]`\n",
    "    return tf.squeeze(outputs, axis=1)"
   ]
  },
  {
   "cell_type": "code",
   "execution_count": 6,
   "metadata": {
    "hidden": true
   },
   "outputs": [],
   "source": [
    "loss_info = make_loss(n_dims, target_dist.log_prob, logits)\n",
    "optimizer = tf.train.AdamOptimizer(learning_rate=0.001)\n",
    "train_op = optimizer.minimize(loss_info.loss)\n",
    "sess = tf.Session()\n",
    "sess.run(tf.global_variables_initializer())"
   ]
  },
  {
   "cell_type": "markdown",
   "metadata": {
    "hidden": true
   },
   "source": [
    "Training"
   ]
  },
  {
   "cell_type": "code",
   "execution_count": 7,
   "metadata": {
    "hidden": true
   },
   "outputs": [
    {
     "name": "stdout",
     "output_type": "stream",
     "text": [
      "Loss (before): 51517.3\n",
      "100  |  24384.0\n",
      "200  |  23495.37890625\n",
      "300  |  22766.560546875\n",
      "400  |  22557.716796875\n",
      "500  |  24041.099609375\n",
      "600  |  22584.802734375\n",
      "700  |  22903.51171875\n",
      "800  |  22531.5234375\n",
      "900  |  22661.9609375\n",
      "1000  |  22551.880859375\n",
      "1100  |  22557.8671875\n",
      "1200  |  22270.0390625\n",
      "1300  |  21978.43359375\n",
      "1400  |  21919.84765625\n",
      "1500  |  22072.546875\n",
      "1600  |  21782.423828125\n",
      "1700  |  21661.904296875\n",
      "1800  |  21605.8984375\n",
      "1900  |  21894.2265625\n",
      "2000  |  21518.271484375\n",
      "2100  |  21500.037109375\n",
      "2200  |  21485.48046875\n",
      "2300  |  21630.26953125\n",
      "2400  |  21362.615234375\n",
      "2500  |  21342.474609375\n",
      "2600  |  21338.638671875\n",
      "2700  |  21141.94921875\n",
      "2800  |  21139.34765625\n",
      "2900  |  21098.208984375\n",
      "3000  |  20956.23828125\n",
      "3100  |  20914.453125\n",
      "3200  |  20835.708984375\n",
      "3300  |  20796.83203125\n",
      "3400  |  20684.0234375\n",
      "3500  |  20609.681640625\n",
      "3600  |  20492.130859375\n",
      "3700  |  20448.6796875\n",
      "3800  |  20375.80859375\n",
      "3900  |  20305.056640625\n",
      "4000  |  20236.634765625\n",
      "4100  |  20118.736328125\n",
      "4200  |  19991.693359375\n",
      "4300  |  19975.7578125\n",
      "4400  |  19811.955078125\n",
      "4500  |  19709.8671875\n",
      "4600  |  19622.17578125\n",
      "4700  |  19506.12109375\n",
      "4800  |  19346.8671875\n",
      "4900  |  19198.357421875\n",
      "5000  |  19088.287109375\n",
      "5100  |  18970.287109375\n",
      "5200  |  18812.283203125\n",
      "5300  |  18711.205078125\n",
      "5400  |  18531.568359375\n",
      "5500  |  18363.236328125\n",
      "5600  |  18196.345703125\n",
      "5700  |  18072.69140625\n",
      "5800  |  17918.0625\n",
      "5900  |  17798.19921875\n",
      "6000  |  17580.423828125\n",
      "6100  |  17320.505859375\n",
      "6200  |  17191.474609375\n",
      "6300  |  17001.970703125\n",
      "6400  |  16783.931640625\n",
      "6500  |  16574.03125\n",
      "6600  |  16406.890625\n",
      "6700  |  16225.3046875\n",
      "6800  |  15945.6796875\n",
      "6900  |  15746.7138671875\n",
      "7000  |  15566.662109375\n",
      "7100  |  15333.3046875\n",
      "7200  |  15073.390625\n",
      "7300  |  14915.751953125\n",
      "7400  |  14631.3974609375\n",
      "7500  |  14477.7490234375\n",
      "7600  |  14205.015625\n",
      "7700  |  13971.0615234375\n",
      "7800  |  13718.80859375\n",
      "7900  |  13498.3916015625\n",
      "8000  |  13263.330078125\n",
      "8100  |  13004.7646484375\n",
      "8200  |  12746.8828125\n",
      "8300  |  12543.71875\n",
      "8400  |  12302.55859375\n",
      "8500  |  12039.720703125\n",
      "8600  |  11861.001953125\n",
      "8700  |  11616.51953125\n",
      "8800  |  11366.822265625\n",
      "8900  |  11127.3427734375\n",
      "9000  |  10872.56640625\n",
      "9100  |  10675.5380859375\n",
      "9200  |  10410.951171875\n",
      "9300  |  10194.4326171875\n",
      "9400  |  9990.7373046875\n",
      "9500  |  9770.79296875\n",
      "9600  |  9528.0693359375\n",
      "9700  |  9303.0478515625\n",
      "9800  |  9079.2001953125\n",
      "9900  |  8862.087890625\n",
      "10000  |  8708.0322265625\n",
      "10100  |  8438.0595703125\n",
      "10200  |  8257.4580078125\n",
      "10300  |  8041.97265625\n",
      "10400  |  7872.724609375\n",
      "10500  |  7629.44873046875\n",
      "10600  |  7470.76171875\n",
      "10700  |  7284.845703125\n",
      "10800  |  7119.5712890625\n",
      "10900  |  6924.046875\n",
      "11000  |  6730.1005859375\n",
      "11100  |  6506.50927734375\n",
      "11200  |  6364.8720703125\n",
      "11300  |  6228.06982421875\n",
      "11400  |  6042.45166015625\n",
      "11500  |  5855.177734375\n",
      "11600  |  5696.31103515625\n",
      "11700  |  5541.48828125\n",
      "11800  |  5383.25927734375\n",
      "11900  |  5224.81982421875\n",
      "12000  |  5088.07421875\n",
      "12100  |  4916.861328125\n",
      "12200  |  4786.70947265625\n",
      "12300  |  4655.634765625\n",
      "12400  |  4532.17626953125\n",
      "12500  |  4409.548828125\n",
      "12600  |  4238.177734375\n",
      "12700  |  4117.5166015625\n",
      "12800  |  3994.816650390625\n",
      "12900  |  3851.751220703125\n",
      "13000  |  3724.721435546875\n",
      "13100  |  3639.66455078125\n",
      "13200  |  3503.340087890625\n",
      "13300  |  3396.96044921875\n",
      "13400  |  3282.455322265625\n",
      "13500  |  3169.965087890625\n",
      "13600  |  3056.419189453125\n",
      "13700  |  2977.841796875\n",
      "13800  |  2853.581298828125\n",
      "13900  |  2767.551513671875\n",
      "14000  |  2668.785400390625\n",
      "14100  |  2572.7783203125\n",
      "14200  |  2511.48388671875\n",
      "14300  |  2441.19775390625\n",
      "14400  |  2345.35595703125\n",
      "14500  |  2237.660400390625\n",
      "14600  |  2182.2421875\n",
      "14700  |  2103.283447265625\n",
      "14800  |  1996.537109375\n",
      "14900  |  1931.4775390625\n",
      "15000  |  1862.5313720703125\n",
      "15100  |  1763.8760986328125\n",
      "15200  |  1702.1051025390625\n",
      "15300  |  1639.780029296875\n",
      "15400  |  1577.3355712890625\n",
      "15500  |  1502.7552490234375\n",
      "15600  |  1446.9237060546875\n",
      "15700  |  1383.2242431640625\n",
      "15800  |  1329.090576171875\n",
      "15900  |  1263.1165771484375\n",
      "16000  |  1199.5390625\n",
      "16100  |  1153.5220947265625\n",
      "16200  |  1120.7681884765625\n",
      "16300  |  1052.3260498046875\n",
      "16400  |  1007.04052734375\n",
      "16500  |  954.31884765625\n",
      "16600  |  932.938232421875\n",
      "16700  |  867.8319702148438\n",
      "16800  |  839.45556640625\n",
      "16900  |  791.197265625\n",
      "17000  |  768.0721435546875\n",
      "17100  |  719.6560668945312\n",
      "17200  |  669.11865234375\n",
      "17300  |  639.7493896484375\n",
      "17400  |  610.8855590820312\n",
      "17500  |  567.5866088867188\n",
      "17600  |  527.5691528320312\n",
      "17700  |  518.4281616210938\n",
      "17800  |  482.3018798828125\n",
      "17900  |  463.9306640625\n",
      "18000  |  441.6488037109375\n",
      "18100  |  414.1590576171875\n",
      "18200  |  386.2427673339844\n",
      "18300  |  353.8907470703125\n",
      "18400  |  319.6868591308594\n",
      "18500  |  318.0928039550781\n",
      "18600  |  297.39190673828125\n",
      "18700  |  280.0654602050781\n",
      "18800  |  264.0125427246094\n",
      "18900  |  251.3677215576172\n",
      "19000  |  234.3875274658203\n",
      "19100  |  216.64501953125\n",
      "19200  |  193.7672119140625\n",
      "19300  |  186.86524963378906\n",
      "19400  |  171.0399627685547\n",
      "19500  |  167.17955017089844\n",
      "19600  |  147.0301055908203\n",
      "19700  |  141.9657745361328\n",
      "19800  |  121.15769958496094\n",
      "19900  |  118.0860595703125\n",
      "20000  |  112.2660140991211\n",
      "Loss (after): 102.542\n",
      "Weight penalty (after): 5.59375e-05\n"
     ]
    }
   ],
   "source": [
    "print('Loss (before):', sess.run(loss_info.loss))\n",
    "\n",
    "n_iters = 20000\n",
    "for step in range(1, n_iters+1):\n",
    "  sess.run(train_op)\n",
    "  \n",
    "  # The value of loss can sometimes temporally be `NaN`, and in\n",
    "  # the next `sess.run()` becomes non-`NaN` (strange!). So, we\n",
    "  # employ the following strategy:\n",
    "  loss_val = sess.run(loss_info.loss)\n",
    "  n_trials = 0\n",
    "  while np.isnan(loss_val) and n_trials < 10:\n",
    "    loss_val = sess.run(loss_info.loss)\n",
    "    n_trials += 1\n",
    "    if n_trials == 9:\n",
    "      print(sess.run([loss_info.log_weights, loss_info.log_ps,\n",
    "                      loss_info.log_qs, loss_info.kl_divergence,\n",
    "                      loss_info.weight_penalty]))\n",
    "  if n_trials == 9:\n",
    "    print('Always `NaN`, finally stopped at step {}.'.format(step))\n",
    "    break\n",
    "    \n",
    "  if step % 100 == 0:\n",
    "    print('{0}  |  {1}'.format(step, sess.run(loss_info.loss)))\n",
    "\n",
    "print('Loss (after):', sess.run(loss_info.loss))\n",
    "print('Weight penalty (after):', sess.run(loss_info.weight_penalty))"
   ]
  },
  {
   "cell_type": "markdown",
   "metadata": {
    "hidden": true
   },
   "source": [
    "Visualize the trained results"
   ]
  },
  {
   "cell_type": "code",
   "execution_count": 8,
   "metadata": {
    "hidden": true
   },
   "outputs": [
    {
     "name": "stdout",
     "output_type": "stream",
     "text": [
      "(1000, 10000)\n",
      "(1000,)\n"
     ]
    }
   ],
   "source": [
    "samples = []\n",
    "log_weights = []\n",
    "for i in range(100):\n",
    "  sample_vals, log_weight_vals = sess.run(\n",
    "      [loss_info.samples, loss_info.log_weights])\n",
    "  samples += [_ for _ in sample_vals]\n",
    "  log_weights += [_ for _ in log_weight_vals]\n",
    "samples = np.array(samples)\n",
    "log_weights = np.array(log_weights)\n",
    "print(samples.shape)\n",
    "print(log_weights.shape)"
   ]
  },
  {
   "cell_type": "code",
   "execution_count": 9,
   "metadata": {
    "hidden": true
   },
   "outputs": [
    {
     "data": {
      "image/png": "[encoded data removed]",
      "text/plain": [
       "<Figure size 432x288 with 1 Axes>"
      ]
     },
     "metadata": {},
     "output_type": "display_data"
    },
    {
     "data": {
      "image/png": "[encoded data removed]",
      "text/plain": [
       "<Figure size 432x288 with 1 Axes>"
      ]
     },
     "metadata": {},
     "output_type": "display_data"
    }
   ],
   "source": [
    "plt.hist(samples[:,0]/softplus(10), bins=50, density=True,\n",
    "         label='samples/softplus(10)')\n",
    "plt.legend()\n",
    "plt.show()\n",
    "\n",
    "plt.hist(log_weights, bins=50, density=True,\n",
    "         label='log-weights')\n",
    "plt.legend()\n",
    "plt.show()"
   ]
  },
  {
   "cell_type": "markdown",
   "metadata": {
    "hidden": true
   },
   "source": [
    "* Conclusion: so far so good."
   ]
  }
 ],
 "metadata": {
  "kernelspec": {
   "display_name": "Python 3",
   "language": "python",
   "name": "python3"
  },
  "language_info": {
   "codemirror_mode": {
    "name": "ipython",
    "version": 3
   },
   "file_extension": ".py",
   "mimetype": "text/x-python",
   "name": "python",
   "nbconvert_exporter": "python",
   "pygments_lexer": "ipython3",
   "version": "3.6.5"
  },
  "toc": {
   "base_numbering": 1,
   "nav_menu": {},
   "number_sections": true,
   "sideBar": true,
   "skip_h1_title": false,
   "title_cell": "Table of Contents",
   "title_sidebar": "Contents",
   "toc_cell": false,
   "toc_position": {},
   "toc_section_display": true,
   "toc_window_display": false
  }
 },
 "nbformat": 4,
 "nbformat_minor": 2
}

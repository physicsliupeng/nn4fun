{
 "cells": [
  {
   "cell_type": "markdown",
   "metadata": {},
   "source": [
    "Re-implement [this](https://github.com/Rachnog/Neural-Networks-for-Differential-Equations/blob/master/ODE%20example.ipynb) by TensorFlow."
   ]
  },
  {
   "cell_type": "code",
   "execution_count": 1,
   "metadata": {},
   "outputs": [],
   "source": [
    "%matplotlib inline\n",
    "\n",
    "import numpy as np\n",
    "import tensorflow as tf\n",
    "from matplotlib import pyplot as plt\n",
    "from matplotlib import cm\n",
    "from mpl_toolkits.mplot3d import Axes3D"
   ]
  },
  {
   "cell_type": "markdown",
   "metadata": {},
   "source": [
    "Solve the ODE:\n",
    "$$\\frac{d y}{d x} (x) = f \\left( x, y(x) \\right),$$\n",
    "in range $x \\in [0, 1]$, with initial condition:\n",
    "$$y(0) = 1.$$\n",
    "\n",
    "XXX:\n",
    "$$y(x) = 1 + x h(x).$$\n",
    "where $h$ for neural network."
   ]
  },
  {
   "cell_type": "markdown",
   "metadata": {},
   "source": [
    "Define $f$:"
   ]
  },
  {
   "cell_type": "code",
   "execution_count": 2,
   "metadata": {},
   "outputs": [],
   "source": [
    "# Auxillary functions\n",
    "def A(x):\n",
    "    return x + (1 + 3 * x**2) / (1 + x + x**3)\n",
    "\n",
    "def B(x):\n",
    "    return x**3 + 2 * x + x**2 * ((1 + 3 * x**2) / (1 + x + x**3))\n",
    "\n",
    "def f(x, y):\n",
    "    \"\"\"$(dy/dx)(x) = f(x, y(x)).$\"\"\"\n",
    "    return B(x) - y * A(x)"
   ]
  },
  {
   "cell_type": "markdown",
   "metadata": {},
   "source": [
    "We have had the analytic solution of the ODE, as"
   ]
  },
  {
   "cell_type": "code",
   "execution_count": 3,
   "metadata": {},
   "outputs": [],
   "source": [
    "def analytic_solution(x):\n",
    "    \"\"\"For comparison.\"\"\"\n",
    "    return np.exp((-x**2)/2) / (1 + x + x**3) + x**2"
   ]
  },
  {
   "cell_type": "code",
   "execution_count": 4,
   "metadata": {},
   "outputs": [],
   "source": [
    "dx = 1 / 100\n",
    "x_space = np.linspace(0, 1, int(1/dx))    \n",
    "y_analytic = analytic_solution(x_space)"
   ]
  },
  {
   "cell_type": "markdown",
   "metadata": {},
   "source": [
    "For comparsion, make numerical solution to the ODE via Euler's method, as"
   ]
  },
  {
   "cell_type": "code",
   "execution_count": 5,
   "metadata": {},
   "outputs": [
    {
     "name": "stdout",
     "output_type": "stream",
     "text": [
      "Wall time: 0 ns\n"
     ]
    }
   ],
   "source": [
    "%%time\n",
    "\n",
    "y_numerical = np.zeros_like(y_analytic)\n",
    "y_numerical[0] = 1  # initiail condition.\n",
    "\n",
    "# Numerical solution\n",
    "for i, x in enumerate(x_space[1:], 1):\n",
    "    y_numerical[i] = ( y_numerical[i-1]\n",
    "                      + B(x) * dx\n",
    "                      - y_numerical[i-1] * A(x) * dx )"
   ]
  },
  {
   "cell_type": "code",
   "execution_count": 6,
   "metadata": {},
   "outputs": [
    {
     "data": {
      "image/png": "[encoded data removed]",
      "text/plain": [
       "<matplotlib.figure.Figure at 0xb53cda0>"
      ]
     },
     "metadata": {},
     "output_type": "display_data"
    }
   ],
   "source": [
    "plt.figure()\n",
    "plt.plot(x_space, y_analytic, label='Analytic')\n",
    "plt.plot(x_space, y_numerical, label='Numerical')\n",
    "plt.legend()\n",
    "plt.show()"
   ]
  },
  {
   "cell_type": "markdown",
   "metadata": {},
   "source": [
    "In the following, we solve this ODE by neural network."
   ]
  },
  {
   "cell_type": "code",
   "execution_count": 7,
   "metadata": {},
   "outputs": [],
   "source": [
    "def make_f(x, y, name=None):\n",
    "  \"\"\"Re-implement $f$ in TensorFlow.\n",
    "  Args:\n",
    "    x: Tensor-like.\n",
    "    y: Tensor-lile.\n",
    "  Returns:\n",
    "    Tensor, as the $f(x, y)$.\n",
    "  \"\"\"\n",
    "  x = tf.convert_to_tensor(x, name='x')\n",
    "  y = tf.convert_to_tensor(y, name='y')\n",
    "\n",
    "  with tf.name_scope(name, 'f', [x, y]):\n",
    "    #f = B(x) - y * A(x)\n",
    "    f = tf.sin(x) / (1.1 - x)\n",
    "    \n",
    "  return f\n",
    "\n",
    "def make_boundary_condition(x, y, name=None):\n",
    "  \"\"\"Implements the boundary condition $b(x, y)$ for which\n",
    "  $b(x, y) = 0$. In our specific example, $b(x, y) := y_0 - 1$.\n",
    "  Args:\n",
    "    x: Tensor-like.\n",
    "    y: Tensor-like.\n",
    "  Returns:\n",
    "    Tensor, as the boundary condition $b(x, y)$.\n",
    "  \"\"\"\n",
    "  x = tf.convert_to_tensor(x, name='x')\n",
    "  y = tf.convert_to_tensor(y, name='y')\n",
    "    \n",
    "  with tf.name_scope(name, 'BoundaryCondition', [x, y]):\n",
    "    y_list = tf.unstack(y)\n",
    "    boundary_condition = y_list[0] - 1\n",
    "    \n",
    "  return boundary_condition"
   ]
  },
  {
   "cell_type": "code",
   "execution_count": 8,
   "metadata": {},
   "outputs": [],
   "source": [
    "def make_neural_network(x, units_list, activation=tf.nn.sigmoid, name=None):\n",
    "  \"\"\"Implement the neural network with dense hidden layers, each with\n",
    "  the same activation-function `activation`, and regularized by a\n",
    "  dropout layer with dropout-rate as the default (i.e. 0.5).\n",
    "  Args:\n",
    "    x: Tensor-like, as the input of the neural network.\n",
    "    units_list: List of integers, as the number of units of the\n",
    "        hidden layers.\n",
    "    activation: Callable, as the activation-function of the hidden-\n",
    "        layers. Defaults to `tf.nn.sigmoid`.\n",
    "  Returns:\n",
    "    The output tensor of the neural network.\n",
    "  \"\"\"\n",
    "  x = tf.convert_to_tensor(x, name='x')\n",
    "\n",
    "  with tf.name_scope(name, 'NeuralNetwork', [x]):\n",
    "    \n",
    "    # On the shape of `x`\n",
    "    if not x.shape:\n",
    "      raise ValueError('`x` shall have batch-dimension.')\n",
    "    elif len(x.shape) == 1:\n",
    "      # `x`'s shape `[batch_size]` => `[batch_size, 1]`\n",
    "      x = tf.expand_dims(x, axis=1)\n",
    "    else:\n",
    "      # Regard the `x`'s shape as `[batch_size] + event_shape`\n",
    "      pass\n",
    "    \n",
    "    # Hidden layers\n",
    "    hidden = x  # initialize.\n",
    "    for units in units_list:\n",
    "      hidden = tf.layers.dense(hidden, units, activation=activation)\n",
    "      hidden = tf.layers.dropout(hidden)\n",
    "    \n",
    "    # Output layer, demanding the output shape `[batch_size]`\n",
    "    # shape: `[batch_size, 1]`\n",
    "    output = tf.layers.dense(hidden, 1)\n",
    "    # `output`'s shape `[batch_size, 1]` => `[batch_size]`\n",
    "    output = tf.squeeze(output, axis=1)\n",
    "\n",
    "  return output"
   ]
  },
  {
   "cell_type": "markdown",
   "metadata": {},
   "source": [
    "Loss is defined by:\n",
    "$$\\mathcal{L} := \\frac{1}{N_x} \\sum_{x_i} d\\left( \\frac{dy}{dx}(x_i), f(x_i, y(x_i)) \\right) + \\frac{1}{N_b} \\sum_{x_b} d\\left( b(x_b, y_b), 0 \\right),$$\n",
    "for some distance $d(x, y)$."
   ]
  },
  {
   "cell_type": "code",
   "execution_count": 9,
   "metadata": {},
   "outputs": [],
   "source": [
    "def make_distance(x, y, name=None):\n",
    "  \"\"\"Mean square distance between tensors `x` and `y`.\"\"\"\n",
    "  with tf.name_scope(name, 'MeanSquareDistance', [x, y]):\n",
    "    distance = tf.reduce_mean(tf.square(x - y))\n",
    "  return distance\n",
    "\n",
    "def make_loss(x, units_list, name=None):\n",
    "  \"\"\"Implements the loss.\n",
    "  Args:\n",
    "    x: Tensor-like, as the input of the neural network.\n",
    "  Returns:\n",
    "    Scalar, as the loss.\n",
    "  \"\"\"\n",
    "  with tf.name_scope(name, 'Loss', [x]):\n",
    "    x = tf.convert_to_tensor(x, name='x')\n",
    "    y_neural_network = make_neural_network(x, units_list)\n",
    "    y = 1 + x * y_neural_network\n",
    "    f = make_f(x, y)\n",
    "    grad_y = tf.gradients(y, [x])[0]\n",
    "    loss = make_distance(grad_y, f)\n",
    "    return loss, y"
   ]
  },
  {
   "cell_type": "code",
   "execution_count": 10,
   "metadata": {
    "scrolled": true
   },
   "outputs": [
    {
     "name": "stdout",
     "output_type": "stream",
     "text": [
      "Wall time: 359 ms\n"
     ]
    }
   ],
   "source": [
    "%%time\n",
    "tf.reset_default_graph()\n",
    "\n",
    "units_list = [10, 10, 10]\n",
    "loss, y_neural_network, *rests = make_loss(x_space, units_list)\n",
    "\n",
    "# For optimizing\n",
    "optimizer = tf.train.AdamOptimizer(0.01)\n",
    "train_op = optimizer.minimize(loss)\n",
    "\n",
    "# For logging\n",
    "tf.summary.scalar('loss', loss)\n",
    "summary_op = tf.summary.merge_all()\n",
    "\n",
    "sess = tf.Session()"
   ]
  },
  {
   "cell_type": "code",
   "execution_count": 11,
   "metadata": {},
   "outputs": [
    {
     "name": "stdout",
     "output_type": "stream",
     "text": [
      "100 2.454009002812669\n",
      "200 0.06347927139301653\n",
      "300 0.03825671558305885\n",
      "400 0.027364837020553888\n",
      "500 0.014096369200015824\n",
      "600 0.004854863340611517\n",
      "700 0.002771165683603907\n",
      "800 0.002206859012450416\n",
      "900 0.001680655066903235\n",
      "1000 0.0013902248139749812\n",
      "1100 0.0011373637982917196\n",
      "1200 0.0009222931051060531\n",
      "1300 0.0007466835099660298\n",
      "1400 0.0005975304684317544\n",
      "1500 0.0004750781554997114\n",
      "1600 0.0003918251782211282\n",
      "1700 0.0003261824145536783\n",
      "1800 0.00028287860497532946\n",
      "1900 0.0029571342318793557\n",
      "2000 0.00023073804909147237\n",
      "2100 0.00021309272334069727\n",
      "2200 0.00019818252981291826\n",
      "2300 0.0002251623764662096\n",
      "2400 0.00017476771272630326\n",
      "2500 0.00016549593433940206\n",
      "2600 0.0003201365636569199\n",
      "2700 0.0001502277824357697\n",
      "2800 0.000144083793246921\n",
      "2900 0.00013856705324557863\n",
      "3000 0.00013754777080503226\n",
      "3100 0.0001291209437384637\n",
      "3200 0.0001250974068465494\n",
      "3300 0.0002122100949908426\n",
      "3400 0.00011769781636226748\n",
      "3500 0.00011446194932079969\n",
      "3600 0.0037787776351459012\n",
      "3700 0.0001080858950516353\n",
      "3800 0.00010521964419894166\n",
      "3900 0.00010240631393653564\n",
      "4000 0.0001329108316230503\n",
      "4100 9.654222350388743e-05\n",
      "4200 9.38115425146786e-05\n",
      "4300 0.00010317880883402793\n",
      "4400 8.788015850686369e-05\n",
      "4500 8.50690204317421e-05\n",
      "4600 0.00010726746889138239\n",
      "4700 7.889841513950422e-05\n",
      "4800 7.599616787459774e-05\n",
      "4900 0.0010094808292413692\n",
      "5000 6.977380252221448e-05\n",
      "5100 6.695647351180812e-05\n",
      "5200 0.0031696000755164454\n",
      "5300 6.118328842488533e-05\n",
      "5400 5.8582763954771096e-05\n",
      "5500 8.683537995076687e-05\n",
      "5600 5.344931574571181e-05\n",
      "5700 5.1173979926098205e-05\n",
      "5800 0.00032512501431778703\n",
      "5900 4.667188108506191e-05\n",
      "6000 4.472408137868273e-05\n",
      "6100 6.621879655626337e-05\n",
      "6200 4.0800998175713054e-05\n",
      "6300 3.920153010380911e-05\n",
      "6400 3.8095919501684625e-05\n",
      "6500 3.5613400580747554e-05\n",
      "6600 0.003782823137629743\n",
      "6700 3.2379411881389634e-05\n",
      "6800 3.099702885116967e-05\n",
      "6900 0.0023173238070367786\n",
      "7000 2.8121239290139316e-05\n",
      "7100 2.6854505627097836e-05\n",
      "7200 2.5657470597497933e-05\n",
      "7300 2.4605990997944254e-05\n",
      "7400 2.3192379893544547e-05\n",
      "7500 2.214694418984063e-05\n",
      "7600 4.247726692787555e-05\n",
      "7700 1.9971869326222918e-05\n",
      "7800 1.906605827843223e-05\n",
      "7900 6.813246465812424e-05\n",
      "8000 1.717933424217899e-05\n",
      "8100 1.6394799695510894e-05\n",
      "8200 2.9572897719169195e-05\n",
      "8300 1.4774237306998538e-05\n",
      "8400 1.4148308198568763e-05\n",
      "8500 1.4175461833059372e-05\n",
      "8600 1.2727365647976319e-05\n",
      "8700 2.3144663544318284e-05\n",
      "8800 1.1507353326620306e-05\n",
      "8900 1.0988894318004288e-05\n",
      "9000 1.9826781145304832e-05\n",
      "9100 9.946156547013169e-06\n",
      "9200 9.533050185494586e-06\n",
      "9300 9.055580694137572e-06\n",
      "9400 8.657484709812572e-06\n",
      "9500 9.64160886085268e-05\n",
      "9600 7.883866960418773e-06\n",
      "9700 7.579438124400615e-06\n",
      "9800 8.299562804710474e-06\n",
      "9900 6.912734272323878e-06\n",
      "10000 0.0001887935740028405\n",
      "10100 6.325141733527801e-06\n",
      "10200 9.722256000135715e-06\n",
      "10300 6.1898664555183475e-06\n",
      "10400 5.5793845306166805e-06\n",
      "10500 9.96173276315708e-06\n",
      "10600 5.127902753341422e-06\n",
      "10700 0.0023901258137673785\n",
      "10800 4.750275381305143e-06\n",
      "10900 4.547945663302035e-06\n",
      "11000 7.799275164256394e-06\n",
      "11100 4.200866417002112e-06\n",
      "11200 4.078435105493505e-05\n",
      "11300 3.898264017466475e-06\n",
      "11400 3.7490499390612396e-06\n",
      "11500 9.894566731278268e-05\n",
      "11600 3.4898391843991015e-06\n",
      "11700 3.3632488500862134e-06\n",
      "11800 1.851952353331077e-05\n",
      "11900 3.1433680004136733e-06\n",
      "12000 3.3824228896083475e-06\n",
      "12100 3.031722476574286e-06\n",
      "12200 2.8429007507881937e-06\n",
      "12300 7.605067329823184e-05\n",
      "12400 2.678818513449177e-06\n",
      "12500 6.222901880677739e-05\n",
      "12600 2.742998701103899e-06\n",
      "12700 2.4326621068032756e-06\n",
      "12800 2.966405843002775e-06\n",
      "12900 2.3014735517142794e-06\n",
      "13000 0.0004459641914580096\n",
      "13100 2.2728756754572502e-06\n",
      "13200 2.1108037933366154e-06\n",
      "13300 4.2653789311333244e-06\n",
      "13400 2.0176138264600167e-06\n",
      "13500 1.944025155451653e-06\n",
      "13600 6.645176237208899e-06\n",
      "13700 1.8536595092933484e-06\n",
      "13800 0.0011626462199910217\n",
      "13900 1.78214894657876e-06\n",
      "14000 1.7150438458284262e-06\n",
      "14100 3.945266895396654e-06\n",
      "14200 1.637092880676595e-06\n",
      "14300 4.890645711210686e-05\n",
      "14400 1.5724271189693025e-06\n",
      "14500 0.0011088364795861943\n",
      "14600 1.6293755129525738e-06\n",
      "14700 1.4598277235881177e-06\n",
      "14800 5.959755414872683e-06\n",
      "14900 1.4077685558669552e-06\n",
      "15000 0.0009508463271310518\n",
      "15100 1.4041349309904e-06\n",
      "15200 1.330384923261823e-06\n",
      "15300 1.9045420258275993e-06\n",
      "15400 1.2708737348138144e-06\n",
      "15500 1.2606484767310191e-05\n",
      "15600 1.2353576919624878e-06\n",
      "15700 0.0009086172325256107\n",
      "15800 1.2159118971571315e-06\n",
      "15900 1.1550920928165115e-06\n",
      "16000 2.436445185325542e-06\n",
      "16100 1.1233325265514535e-06\n",
      "16200 0.00029741118388171105\n",
      "16300 1.1154467670775006e-06\n",
      "16400 1.3854333448412549e-06\n",
      "16500 1.1270121279211325e-06\n",
      "16600 1.0294355480587767e-06\n",
      "16700 8.137970118814711e-06\n",
      "16800 1.0024666498202057e-06\n",
      "Wall time: 9.57 s\n"
     ]
    }
   ],
   "source": [
    "%%time\n",
    "# -- Initializing\n",
    "# For logging\n",
    "writer = tf.summary.FileWriter('./logdir', sess.graph)\n",
    "# Initialize all `tf.Variable`s, explicit or implicit\n",
    "sess.run(tf.global_variables_initializer())\n",
    "\n",
    "# -- Optimizing\n",
    "\n",
    "# Parameters\n",
    "n_iters = 10**5\n",
    "tolerance = 1e-6\n",
    "\n",
    "# Iterations\n",
    "for i in range(n_iters):\n",
    "    _, summary_value, loss_value = sess.run([train_op, summary_op, loss])\n",
    "\n",
    "    step = i + 1\n",
    "    writer.add_summary(summary_value, step)\n",
    "\n",
    "    if abs(loss_value) < tolerance:\n",
    "        break\n",
    "\n",
    "    if step % 100 == 0:\n",
    "        print(step, loss_value)\n",
    "\n",
    "# Return the predict-values of the trained neural network\n",
    "y_neural_network_value = sess.run(y_neural_network)"
   ]
  },
  {
   "cell_type": "code",
   "execution_count": 12,
   "metadata": {},
   "outputs": [
    {
     "data": {
      "image/png": "[encoded data removed]",
      "text/plain": [
       "<matplotlib.figure.Figure at 0xb9b1160>"
      ]
     },
     "metadata": {},
     "output_type": "display_data"
    }
   ],
   "source": [
    "plt.figure()\n",
    "plt.plot(x_space, y_analytic, label='Analytic')\n",
    "#plt.plot(x_space, y_numerical, label='Numerical')\n",
    "plt.plot(x_space, y_neural_network_value, label='Neural Network')\n",
    "plt.legend()\n",
    "plt.show()"
   ]
  }
 ],
 "metadata": {
  "kernelspec": {
   "display_name": "Python 3",
   "language": "python",
   "name": "python3"
  },
  "language_info": {
   "codemirror_mode": {
    "name": "ipython",
    "version": 3
   },
   "file_extension": ".py",
   "mimetype": "text/x-python",
   "name": "python",
   "nbconvert_exporter": "python",
   "pygments_lexer": "ipython3",
   "version": "3.6.4"
  }
 },
 "nbformat": 4,
 "nbformat_minor": 2
}

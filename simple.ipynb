{
 "cells": [
  {
   "cell_type": "markdown",
   "metadata": {},
   "source": [
    "Re-implement [this](https://github.com/Rachnog/Neural-Networks-for-Differential-Equations/blob/master/ODE%20example.ipynb) by TensorFlow."
   ]
  },
  {
   "cell_type": "code",
   "execution_count": 1,
   "metadata": {
    "collapsed": true
   },
   "outputs": [],
   "source": [
    "%matplotlib inline\n",
    "\n",
    "import numpy as np\n",
    "import tensorflow as tf\n",
    "from matplotlib import pyplot as plt\n",
    "from matplotlib import cm\n",
    "from mpl_toolkits.mplot3d import Axes3D"
   ]
  },
  {
   "cell_type": "markdown",
   "metadata": {},
   "source": [
    "Solve the ODE:\n",
    "$$\\frac{d y}{d x} (x) = f \\left( x, y(x) \\right),$$\n",
    "in range $x \\in [0, 1]$, with initial condition:\n",
    "$$y(0) = 1.$$"
   ]
  },
  {
   "cell_type": "markdown",
   "metadata": {},
   "source": [
    "Define $f$:"
   ]
  },
  {
   "cell_type": "code",
   "execution_count": 2,
   "metadata": {
    "collapsed": true
   },
   "outputs": [],
   "source": [
    "# Auxillary functions\n",
    "def A(x):\n",
    "    return x + (1 + 3 * x**2) / (1 + x + x**3)\n",
    "\n",
    "def B(x):\n",
    "    return x**3 + 2 * x + x**2 * ((1 + 3 * x**2) / (1 + x + x**3))\n",
    "\n",
    "def f(x, y):\n",
    "    \"\"\"$(dy/dx)(x) = f(x, y(x)).$\"\"\"\n",
    "    return B(x) - y * A(x)"
   ]
  },
  {
   "cell_type": "markdown",
   "metadata": {},
   "source": [
    "We have had the analytic solution of the ODE, as"
   ]
  },
  {
   "cell_type": "code",
   "execution_count": 3,
   "metadata": {
    "collapsed": true
   },
   "outputs": [],
   "source": [
    "def analytic_solution(x):\n",
    "    \"\"\"For comparison.\"\"\"\n",
    "    return np.exp((-x**2)/2) / (1 + x + x**3) + x**2"
   ]
  },
  {
   "cell_type": "code",
   "execution_count": 4,
   "metadata": {
    "collapsed": true
   },
   "outputs": [],
   "source": [
    "dx = 1 / 10\n",
    "x_space = np.linspace(0, 1, int(1/dx))    \n",
    "y_analytic = analytic_solution(x_space)"
   ]
  },
  {
   "cell_type": "markdown",
   "metadata": {},
   "source": [
    "For comparsion, make numerical solution to the ODE via Euler's method, as"
   ]
  },
  {
   "cell_type": "code",
   "execution_count": 5,
   "metadata": {},
   "outputs": [
    {
     "name": "stdout",
     "output_type": "stream",
     "text": [
      "CPU times: user 0 ns, sys: 0 ns, total: 0 ns\n",
      "Wall time: 123 µs\n"
     ]
    }
   ],
   "source": [
    "%%time\n",
    "\n",
    "y_numerical = np.zeros_like(y_analytic)\n",
    "y_numerical[0] = 1  # initiail condition.\n",
    "\n",
    "# Numerical solution\n",
    "for i, x in enumerate(x_space[1:], 1):\n",
    "    y_numerical[i] = ( y_numerical[i-1]\n",
    "                      + B(x) * dx\n",
    "                      - y_numerical[i-1] * A(x) * dx )"
   ]
  },
  {
   "cell_type": "code",
   "execution_count": 6,
   "metadata": {},
   "outputs": [
    {
     "data": {
      "image/png": "[encoded data removed]",
      "text/plain": [
       "<matplotlib.figure.Figure at 0x7f5f388e12e8>"
      ]
     },
     "metadata": {},
     "output_type": "display_data"
    }
   ],
   "source": [
    "plt.figure()\n",
    "plt.plot(x_space, y_analytic, label='Analytic')\n",
    "plt.plot(x_space, y_numerical, label='Numerical')\n",
    "plt.legend()\n",
    "plt.show()"
   ]
  },
  {
   "cell_type": "markdown",
   "metadata": {},
   "source": [
    "In the following, we solve this ODE by neural network."
   ]
  },
  {
   "cell_type": "code",
   "execution_count": 7,
   "metadata": {
    "collapsed": true
   },
   "outputs": [],
   "source": [
    "def make_f(x, y, name=None):\n",
    "  \"\"\"Re-implement $f$ in TensorFlow.\n",
    "  Args:\n",
    "    x: Tensor-like.\n",
    "    y: Tensor-lile.\n",
    "  Returns:\n",
    "    Tensor, as the $f(x, y)$.\n",
    "  \"\"\"\n",
    "  x = tf.convert_to_tensor(x, name='x')\n",
    "  y = tf.convert_to_tensor(y, name='y')\n",
    "\n",
    "  with tf.name_scope(name, 'f', [x, y]):\n",
    "    f = B(x) - y * A(x)\n",
    "    \n",
    "  return f\n",
    "\n",
    "def make_boundary_condition(x, y, name=None):\n",
    "  \"\"\"Implements the boundary condition $b(x, y)$ for which\n",
    "  $b(x, y) = 0$. In our specific example, $b(x, y) := y_0 - 1$.\n",
    "  Args:\n",
    "    x: Tensor-like.\n",
    "    y: Tensor-like.\n",
    "  Returns:\n",
    "    Tensor, as the boundary condition $b(x, y)$.\n",
    "  \"\"\"\n",
    "  x = tf.convert_to_tensor(x, name='x')\n",
    "  y = tf.convert_to_tensor(y, name='y')\n",
    "    \n",
    "  with tf.name_scope(name, 'BoundaryCondition', [x, y]):\n",
    "    y_list = tf.unstack(y)\n",
    "    boundary_condition = y_list[0] - 1\n",
    "    \n",
    "  return boundary_condition"
   ]
  },
  {
   "cell_type": "code",
   "execution_count": 8,
   "metadata": {
    "collapsed": true
   },
   "outputs": [],
   "source": [
    "def make_neural_network(x, units_list, activation=tf.nn.sigmoid, name=None):\n",
    "  \"\"\"Implement the neural network with dense hidden layers, each with\n",
    "  the same activation-function `activation`, and regularized by a\n",
    "  dropout layer with dropout-rate as the default (i.e. 0.5).\n",
    "  Args:\n",
    "    x: Tensor-like, as the input of the neural network.\n",
    "    units_list: List of integers, as the number of units of the\n",
    "        hidden layers.\n",
    "    activation: Callable, as the activation-function of the hidden-\n",
    "        layers. Defaults to `tf.nn.sigmoid`.\n",
    "  Returns:\n",
    "    The output tensor of the neural network.\n",
    "  \"\"\"\n",
    "  x = tf.convert_to_tensor(x, name='x')\n",
    "\n",
    "  with tf.name_scope(name, 'NeuralNetwork', [x]):\n",
    "    \n",
    "    # On the shape of `x`\n",
    "    if not x.shape:\n",
    "      raise ValueError('`x` shall have batch-dimension.')\n",
    "    elif len(x.shape) == 1:\n",
    "      # `x`'s shape `[batch_size]` => `[batch_size, 1]`\n",
    "      x = tf.expand_dims(x, axis=1)\n",
    "    else:\n",
    "      # Regard the `x`'s shape as `[batch_size] + event_shape`\n",
    "      pass\n",
    "    \n",
    "    # Hidden layers\n",
    "    hidden = x  # initialize.\n",
    "    for units in units_list:\n",
    "      hidden = tf.layers.dense(hidden, units, activation=activation)\n",
    "      hidden = tf.layers.dropout(hidden)\n",
    "    \n",
    "    # Output layer, demanding the output shape `[batch_size]`\n",
    "    # shape: `[batch_size, 1]`\n",
    "    output = tf.layers.dense(hidden, 1)\n",
    "    # `output`'s shape `[batch_size, 1]` => `[batch_size]`\n",
    "    output = tf.squeeze(output, axis=1)\n",
    "\n",
    "  return output"
   ]
  },
  {
   "cell_type": "markdown",
   "metadata": {},
   "source": [
    "Loss is defined by:\n",
    "$$\\mathcal{L} := \\frac{1}{N_x} \\sum_{x_i} d\\left( \\frac{dy}{dx}(x_i), f(x_i, y(x_i)) \\right) + \\frac{1}{N_b} \\sum_{x_b} d\\left( b(x_b, y_b), 0 \\right),$$\n",
    "for some distance $d(x, y)$."
   ]
  },
  {
   "cell_type": "code",
   "execution_count": 9,
   "metadata": {
    "collapsed": true
   },
   "outputs": [],
   "source": [
    "def make_distance(x, y, name=None):\n",
    "  \"\"\"Mean square distance between tensors `x` and `y`.\"\"\"\n",
    "  with tf.name_scope(name, 'MeanSquareDistance', [x, y]):\n",
    "    distance = tf.reduce_mean(tf.square(x - y))\n",
    "  return distance\n",
    "\n",
    "def make_loss(x, units_list, name=None):\n",
    "  \"\"\"Implements the loss.\n",
    "  Args:\n",
    "    x: Tensor-like, as the input of the neural network.\n",
    "  Returns:\n",
    "    Scalar, as the loss.\n",
    "  \"\"\"\n",
    "  x = tf.convert_to_tensor(x, name='x')\n",
    "  y_neural_network = make_neural_network(x, units_list)\n",
    "  f = make_f(x, y_neural_network)\n",
    "  grad_y = tf.gradients(y_neural_network, [x])[0]\n",
    "  boundary_condition = make_boundary_condition(x, y_neural_network)\n",
    "\n",
    "  with tf.name_scope(name, 'Loss', [x, y_neural_network]):\n",
    "    loss = ( make_distance(grad_y, f)\n",
    "           + make_distance(boundary_condition, 0) )\n",
    "    \n",
    "  return loss, y_neural_network, boundary_condition"
   ]
  },
  {
   "cell_type": "code",
   "execution_count": 10,
   "metadata": {
    "scrolled": true
   },
   "outputs": [
    {
     "name": "stdout",
     "output_type": "stream",
     "text": [
      "100 0.775714957942\n",
      "200 0.727183144313\n",
      "300 0.249649122374\n",
      "400 0.136690938247\n",
      "500 0.005347536878\n",
      "600 0.00128067702516\n",
      "700 0.00113038056543\n",
      "800 0.00100736642532\n",
      "CPU times: user 5.38 s, sys: 2.31 s, total: 7.7 s\n",
      "Wall time: 6.24 s\n"
     ]
    }
   ],
   "source": [
    "%%time\n",
    "tf.reset_default_graph()\n",
    "\n",
    "units_list = [10, 10, 10]\n",
    "loss, y_neural_network, *rests = make_loss(x_space, units_list)\n",
    "\n",
    "# For optimizing\n",
    "optimizer = tf.train.AdamOptimizer(0.01)\n",
    "train_op = optimizer.minimize(loss)\n",
    "\n",
    "# For logging\n",
    "tf.summary.scalar('loss', loss)\n",
    "summary_op = tf.summary.merge_all()\n",
    "\n",
    "with tf.Session() as sess:\n",
    "  \n",
    "    # -- Initializing\n",
    "    # For logging\n",
    "    writer = tf.summary.FileWriter('./logdir', sess.graph)\n",
    "    # Initialize all `tf.Variable`s, explicit or implicit\n",
    "    sess.run(tf.global_variables_initializer())\n",
    "\n",
    "    # -- Optimizing\n",
    "\n",
    "    # Parameters\n",
    "    n_iters = 10**4\n",
    "    tolerance = 1e-3\n",
    "\n",
    "    # Iterations\n",
    "    for i in range(n_iters):\n",
    "        _, summary_value, loss_value = sess.run([train_op, summary_op, loss])\n",
    "    \n",
    "        step = i + 1\n",
    "        writer.add_summary(summary_value, step)\n",
    "    \n",
    "        if abs(loss_value) < tolerance:\n",
    "            break\n",
    "    \n",
    "        if step % 100 == 0:\n",
    "            print(step, loss_value)\n",
    "\n",
    "    # Return the predict-values of the trained neural network\n",
    "    y_neural_network_value = sess.run(y_neural_network)"
   ]
  },
  {
   "cell_type": "code",
   "execution_count": 11,
   "metadata": {},
   "outputs": [
    {
     "data": {
      "image/png": "[encoded data removed]",
      "text/plain": [
       "<matplotlib.figure.Figure at 0x7f5f354ef080>"
      ]
     },
     "metadata": {},
     "output_type": "display_data"
    }
   ],
   "source": [
    "plt.figure()\n",
    "plt.plot(x_space, y_analytic, label='Analytic')\n",
    "plt.plot(x_space, y_numerical, label='Numerical')\n",
    "plt.plot(x_space, y_neural_network_value, label='Neural Network')\n",
    "plt.legend()\n",
    "plt.show()"
   ]
  }
 ],
 "metadata": {
  "kernelspec": {
   "display_name": "Python 3",
   "language": "python",
   "name": "python3"
  },
  "language_info": {
   "codemirror_mode": {
    "name": "ipython",
    "version": 3
   },
   "file_extension": ".py",
   "mimetype": "text/x-python",
   "name": "python",
   "nbconvert_exporter": "python",
   "pygments_lexer": "ipython3",
   "version": "3.6.1"
  }
 },
 "nbformat": 4,
 "nbformat_minor": 2
}
